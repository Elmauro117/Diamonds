{
 "cells": [
  {
   "cell_type": "code",
   "execution_count": 1,
   "metadata": {},
   "outputs": [],
   "source": [
    "import numpy as np\n",
    "import pandas as pd\n",
    "import seaborn as sns"
   ]
  },
  {
   "cell_type": "code",
   "execution_count": 2,
   "metadata": {},
   "outputs": [
    {
     "data": {
      "text/plain": [
       "'C:\\\\Users\\\\CLIENTE'"
      ]
     },
     "execution_count": 2,
     "metadata": {},
     "output_type": "execute_result"
    }
   ],
   "source": [
    "pwd"
   ]
  },
  {
   "cell_type": "code",
   "execution_count": 3,
   "metadata": {
    "scrolled": true
   },
   "outputs": [
    {
     "name": "stdout",
     "output_type": "stream",
     "text": [
      "E:\\DATASETS\\Diamantes\n"
     ]
    }
   ],
   "source": [
    "cd \"E:\\DATASETS\\Diamantes\\\""
   ]
  },
  {
   "cell_type": "code",
   "execution_count": 4,
   "metadata": {
    "scrolled": true
   },
   "outputs": [],
   "source": [
    "df1 = pd.read_csv(\"Diamantes.csv\")"
   ]
  },
  {
   "cell_type": "code",
   "execution_count": 5,
   "metadata": {},
   "outputs": [
    {
     "data": {
      "text/html": [
       "<div>\n",
       "<style scoped>\n",
       "    .dataframe tbody tr th:only-of-type {\n",
       "        vertical-align: middle;\n",
       "    }\n",
       "\n",
       "    .dataframe tbody tr th {\n",
       "        vertical-align: top;\n",
       "    }\n",
       "\n",
       "    .dataframe thead th {\n",
       "        text-align: right;\n",
       "    }\n",
       "</style>\n",
       "<table border=\"1\" class=\"dataframe\">\n",
       "  <thead>\n",
       "    <tr style=\"text-align: right;\">\n",
       "      <th></th>\n",
       "      <th>Unnamed: 0</th>\n",
       "      <th>carat</th>\n",
       "      <th>cut</th>\n",
       "      <th>color</th>\n",
       "      <th>clarity</th>\n",
       "      <th>depth</th>\n",
       "      <th>table</th>\n",
       "      <th>price</th>\n",
       "      <th>x</th>\n",
       "      <th>y</th>\n",
       "      <th>z</th>\n",
       "    </tr>\n",
       "  </thead>\n",
       "  <tbody>\n",
       "    <tr>\n",
       "      <th>0</th>\n",
       "      <td>1</td>\n",
       "      <td>0.23</td>\n",
       "      <td>Ideal</td>\n",
       "      <td>E</td>\n",
       "      <td>SI2</td>\n",
       "      <td>61.5</td>\n",
       "      <td>55.0</td>\n",
       "      <td>326</td>\n",
       "      <td>3.95</td>\n",
       "      <td>3.98</td>\n",
       "      <td>2.43</td>\n",
       "    </tr>\n",
       "    <tr>\n",
       "      <th>1</th>\n",
       "      <td>2</td>\n",
       "      <td>0.21</td>\n",
       "      <td>Premium</td>\n",
       "      <td>E</td>\n",
       "      <td>SI1</td>\n",
       "      <td>59.8</td>\n",
       "      <td>61.0</td>\n",
       "      <td>326</td>\n",
       "      <td>3.89</td>\n",
       "      <td>3.84</td>\n",
       "      <td>2.31</td>\n",
       "    </tr>\n",
       "    <tr>\n",
       "      <th>2</th>\n",
       "      <td>3</td>\n",
       "      <td>0.23</td>\n",
       "      <td>Good</td>\n",
       "      <td>E</td>\n",
       "      <td>VS1</td>\n",
       "      <td>56.9</td>\n",
       "      <td>65.0</td>\n",
       "      <td>327</td>\n",
       "      <td>4.05</td>\n",
       "      <td>4.07</td>\n",
       "      <td>2.31</td>\n",
       "    </tr>\n",
       "    <tr>\n",
       "      <th>3</th>\n",
       "      <td>4</td>\n",
       "      <td>0.29</td>\n",
       "      <td>Premium</td>\n",
       "      <td>I</td>\n",
       "      <td>VS2</td>\n",
       "      <td>62.4</td>\n",
       "      <td>58.0</td>\n",
       "      <td>334</td>\n",
       "      <td>4.20</td>\n",
       "      <td>4.23</td>\n",
       "      <td>2.63</td>\n",
       "    </tr>\n",
       "    <tr>\n",
       "      <th>4</th>\n",
       "      <td>5</td>\n",
       "      <td>0.31</td>\n",
       "      <td>Good</td>\n",
       "      <td>J</td>\n",
       "      <td>SI2</td>\n",
       "      <td>63.3</td>\n",
       "      <td>58.0</td>\n",
       "      <td>335</td>\n",
       "      <td>4.34</td>\n",
       "      <td>4.35</td>\n",
       "      <td>2.75</td>\n",
       "    </tr>\n",
       "  </tbody>\n",
       "</table>\n",
       "</div>"
      ],
      "text/plain": [
       "   Unnamed: 0  carat      cut color clarity  depth  table  price     x     y  \\\n",
       "0           1   0.23    Ideal     E     SI2   61.5   55.0    326  3.95  3.98   \n",
       "1           2   0.21  Premium     E     SI1   59.8   61.0    326  3.89  3.84   \n",
       "2           3   0.23     Good     E     VS1   56.9   65.0    327  4.05  4.07   \n",
       "3           4   0.29  Premium     I     VS2   62.4   58.0    334  4.20  4.23   \n",
       "4           5   0.31     Good     J     SI2   63.3   58.0    335  4.34  4.35   \n",
       "\n",
       "      z  \n",
       "0  2.43  \n",
       "1  2.31  \n",
       "2  2.31  \n",
       "3  2.63  \n",
       "4  2.75  "
      ]
     },
     "execution_count": 5,
     "metadata": {},
     "output_type": "execute_result"
    }
   ],
   "source": [
    "df1.head()"
   ]
  },
  {
   "cell_type": "code",
   "execution_count": 6,
   "metadata": {},
   "outputs": [],
   "source": [
    "df1 = df1.drop(\"Unnamed: 0\", axis = 1)"
   ]
  },
  {
   "cell_type": "code",
   "execution_count": 7,
   "metadata": {},
   "outputs": [
    {
     "data": {
      "text/html": [
       "<div>\n",
       "<style scoped>\n",
       "    .dataframe tbody tr th:only-of-type {\n",
       "        vertical-align: middle;\n",
       "    }\n",
       "\n",
       "    .dataframe tbody tr th {\n",
       "        vertical-align: top;\n",
       "    }\n",
       "\n",
       "    .dataframe thead th {\n",
       "        text-align: right;\n",
       "    }\n",
       "</style>\n",
       "<table border=\"1\" class=\"dataframe\">\n",
       "  <thead>\n",
       "    <tr style=\"text-align: right;\">\n",
       "      <th></th>\n",
       "      <th>carat</th>\n",
       "      <th>cut</th>\n",
       "      <th>color</th>\n",
       "      <th>clarity</th>\n",
       "      <th>depth</th>\n",
       "      <th>table</th>\n",
       "      <th>price</th>\n",
       "      <th>x</th>\n",
       "      <th>y</th>\n",
       "      <th>z</th>\n",
       "    </tr>\n",
       "  </thead>\n",
       "  <tbody>\n",
       "    <tr>\n",
       "      <th>0</th>\n",
       "      <td>0.23</td>\n",
       "      <td>Ideal</td>\n",
       "      <td>E</td>\n",
       "      <td>SI2</td>\n",
       "      <td>61.5</td>\n",
       "      <td>55.0</td>\n",
       "      <td>326</td>\n",
       "      <td>3.95</td>\n",
       "      <td>3.98</td>\n",
       "      <td>2.43</td>\n",
       "    </tr>\n",
       "    <tr>\n",
       "      <th>1</th>\n",
       "      <td>0.21</td>\n",
       "      <td>Premium</td>\n",
       "      <td>E</td>\n",
       "      <td>SI1</td>\n",
       "      <td>59.8</td>\n",
       "      <td>61.0</td>\n",
       "      <td>326</td>\n",
       "      <td>3.89</td>\n",
       "      <td>3.84</td>\n",
       "      <td>2.31</td>\n",
       "    </tr>\n",
       "    <tr>\n",
       "      <th>2</th>\n",
       "      <td>0.23</td>\n",
       "      <td>Good</td>\n",
       "      <td>E</td>\n",
       "      <td>VS1</td>\n",
       "      <td>56.9</td>\n",
       "      <td>65.0</td>\n",
       "      <td>327</td>\n",
       "      <td>4.05</td>\n",
       "      <td>4.07</td>\n",
       "      <td>2.31</td>\n",
       "    </tr>\n",
       "    <tr>\n",
       "      <th>3</th>\n",
       "      <td>0.29</td>\n",
       "      <td>Premium</td>\n",
       "      <td>I</td>\n",
       "      <td>VS2</td>\n",
       "      <td>62.4</td>\n",
       "      <td>58.0</td>\n",
       "      <td>334</td>\n",
       "      <td>4.20</td>\n",
       "      <td>4.23</td>\n",
       "      <td>2.63</td>\n",
       "    </tr>\n",
       "    <tr>\n",
       "      <th>4</th>\n",
       "      <td>0.31</td>\n",
       "      <td>Good</td>\n",
       "      <td>J</td>\n",
       "      <td>SI2</td>\n",
       "      <td>63.3</td>\n",
       "      <td>58.0</td>\n",
       "      <td>335</td>\n",
       "      <td>4.34</td>\n",
       "      <td>4.35</td>\n",
       "      <td>2.75</td>\n",
       "    </tr>\n",
       "  </tbody>\n",
       "</table>\n",
       "</div>"
      ],
      "text/plain": [
       "   carat      cut color clarity  depth  table  price     x     y     z\n",
       "0   0.23    Ideal     E     SI2   61.5   55.0    326  3.95  3.98  2.43\n",
       "1   0.21  Premium     E     SI1   59.8   61.0    326  3.89  3.84  2.31\n",
       "2   0.23     Good     E     VS1   56.9   65.0    327  4.05  4.07  2.31\n",
       "3   0.29  Premium     I     VS2   62.4   58.0    334  4.20  4.23  2.63\n",
       "4   0.31     Good     J     SI2   63.3   58.0    335  4.34  4.35  2.75"
      ]
     },
     "execution_count": 7,
     "metadata": {},
     "output_type": "execute_result"
    }
   ],
   "source": [
    "df1.head()"
   ]
  },
  {
   "cell_type": "code",
   "execution_count": 8,
   "metadata": {},
   "outputs": [
    {
     "data": {
      "text/html": [
       "<div>\n",
       "<style scoped>\n",
       "    .dataframe tbody tr th:only-of-type {\n",
       "        vertical-align: middle;\n",
       "    }\n",
       "\n",
       "    .dataframe tbody tr th {\n",
       "        vertical-align: top;\n",
       "    }\n",
       "\n",
       "    .dataframe thead th {\n",
       "        text-align: right;\n",
       "    }\n",
       "</style>\n",
       "<table border=\"1\" class=\"dataframe\">\n",
       "  <thead>\n",
       "    <tr style=\"text-align: right;\">\n",
       "      <th></th>\n",
       "      <th>carat</th>\n",
       "      <th>depth</th>\n",
       "      <th>table</th>\n",
       "      <th>price</th>\n",
       "      <th>x</th>\n",
       "      <th>y</th>\n",
       "      <th>z</th>\n",
       "    </tr>\n",
       "  </thead>\n",
       "  <tbody>\n",
       "    <tr>\n",
       "      <th>count</th>\n",
       "      <td>53943.000000</td>\n",
       "      <td>53943.000000</td>\n",
       "      <td>53943.000000</td>\n",
       "      <td>53943.000000</td>\n",
       "      <td>53943.000000</td>\n",
       "      <td>53943.000000</td>\n",
       "      <td>53943.000000</td>\n",
       "    </tr>\n",
       "    <tr>\n",
       "      <th>mean</th>\n",
       "      <td>0.797935</td>\n",
       "      <td>61.749322</td>\n",
       "      <td>57.457251</td>\n",
       "      <td>3932.734294</td>\n",
       "      <td>5.731158</td>\n",
       "      <td>5.734526</td>\n",
       "      <td>3.538730</td>\n",
       "    </tr>\n",
       "    <tr>\n",
       "      <th>std</th>\n",
       "      <td>0.473999</td>\n",
       "      <td>1.432626</td>\n",
       "      <td>2.234549</td>\n",
       "      <td>3989.338447</td>\n",
       "      <td>1.121730</td>\n",
       "      <td>1.142103</td>\n",
       "      <td>0.705679</td>\n",
       "    </tr>\n",
       "    <tr>\n",
       "      <th>min</th>\n",
       "      <td>0.200000</td>\n",
       "      <td>43.000000</td>\n",
       "      <td>43.000000</td>\n",
       "      <td>326.000000</td>\n",
       "      <td>0.000000</td>\n",
       "      <td>0.000000</td>\n",
       "      <td>0.000000</td>\n",
       "    </tr>\n",
       "    <tr>\n",
       "      <th>25%</th>\n",
       "      <td>0.400000</td>\n",
       "      <td>61.000000</td>\n",
       "      <td>56.000000</td>\n",
       "      <td>950.000000</td>\n",
       "      <td>4.710000</td>\n",
       "      <td>4.720000</td>\n",
       "      <td>2.910000</td>\n",
       "    </tr>\n",
       "    <tr>\n",
       "      <th>50%</th>\n",
       "      <td>0.700000</td>\n",
       "      <td>61.800000</td>\n",
       "      <td>57.000000</td>\n",
       "      <td>2401.000000</td>\n",
       "      <td>5.700000</td>\n",
       "      <td>5.710000</td>\n",
       "      <td>3.530000</td>\n",
       "    </tr>\n",
       "    <tr>\n",
       "      <th>75%</th>\n",
       "      <td>1.040000</td>\n",
       "      <td>62.500000</td>\n",
       "      <td>59.000000</td>\n",
       "      <td>5324.000000</td>\n",
       "      <td>6.540000</td>\n",
       "      <td>6.540000</td>\n",
       "      <td>4.040000</td>\n",
       "    </tr>\n",
       "    <tr>\n",
       "      <th>max</th>\n",
       "      <td>5.010000</td>\n",
       "      <td>79.000000</td>\n",
       "      <td>95.000000</td>\n",
       "      <td>18823.000000</td>\n",
       "      <td>10.740000</td>\n",
       "      <td>58.900000</td>\n",
       "      <td>31.800000</td>\n",
       "    </tr>\n",
       "  </tbody>\n",
       "</table>\n",
       "</div>"
      ],
      "text/plain": [
       "              carat         depth         table         price             x  \\\n",
       "count  53943.000000  53943.000000  53943.000000  53943.000000  53943.000000   \n",
       "mean       0.797935     61.749322     57.457251   3932.734294      5.731158   \n",
       "std        0.473999      1.432626      2.234549   3989.338447      1.121730   \n",
       "min        0.200000     43.000000     43.000000    326.000000      0.000000   \n",
       "25%        0.400000     61.000000     56.000000    950.000000      4.710000   \n",
       "50%        0.700000     61.800000     57.000000   2401.000000      5.700000   \n",
       "75%        1.040000     62.500000     59.000000   5324.000000      6.540000   \n",
       "max        5.010000     79.000000     95.000000  18823.000000     10.740000   \n",
       "\n",
       "                  y             z  \n",
       "count  53943.000000  53943.000000  \n",
       "mean       5.734526      3.538730  \n",
       "std        1.142103      0.705679  \n",
       "min        0.000000      0.000000  \n",
       "25%        4.720000      2.910000  \n",
       "50%        5.710000      3.530000  \n",
       "75%        6.540000      4.040000  \n",
       "max       58.900000     31.800000  "
      ]
     },
     "execution_count": 8,
     "metadata": {},
     "output_type": "execute_result"
    }
   ],
   "source": [
    "df1.describe()"
   ]
  },
  {
   "cell_type": "code",
   "execution_count": 9,
   "metadata": {},
   "outputs": [
    {
     "data": {
      "text/plain": [
       "carat      0\n",
       "cut        0\n",
       "color      0\n",
       "clarity    0\n",
       "depth      0\n",
       "table      0\n",
       "price      0\n",
       "x          0\n",
       "y          0\n",
       "z          0\n",
       "dtype: int64"
      ]
     },
     "execution_count": 9,
     "metadata": {},
     "output_type": "execute_result"
    }
   ],
   "source": [
    "df1.isna().sum()"
   ]
  },
  {
   "cell_type": "code",
   "execution_count": 10,
   "metadata": {},
   "outputs": [
    {
     "data": {
      "text/plain": [
       "carat      float64\n",
       "cut         object\n",
       "color       object\n",
       "clarity     object\n",
       "depth      float64\n",
       "table      float64\n",
       "price        int64\n",
       "x          float64\n",
       "y          float64\n",
       "z          float64\n",
       "dtype: object"
      ]
     },
     "execution_count": 10,
     "metadata": {},
     "output_type": "execute_result"
    }
   ],
   "source": [
    "df1.dtypes"
   ]
  },
  {
   "cell_type": "code",
   "execution_count": 11,
   "metadata": {},
   "outputs": [
    {
     "name": "stdout",
     "output_type": "stream",
     "text": [
      "carat tiene:    273\n",
      "cut tiene:    5\n",
      "color tiene:    7\n",
      "clarity tiene:    8\n",
      "depth tiene:    184\n",
      "table tiene:    127\n",
      "price tiene:    11602\n",
      "x tiene:    554\n",
      "y tiene:    552\n",
      "z tiene:    375\n"
     ]
    }
   ],
   "source": [
    "L = ('carat', 'cut', 'color', 'clarity', 'depth', 'table', 'price',\"x\",\"y\",\"z\")\n",
    "\n",
    "for x in L:\n",
    "    print(x, \"tiene:   \", df1[x].nunique())"
   ]
  },
  {
   "cell_type": "code",
   "execution_count": 12,
   "metadata": {},
   "outputs": [
    {
     "name": "stdout",
     "output_type": "stream",
     "text": [
      "Ideal        21551\n",
      "Premium      13793\n",
      "Very Good    12083\n",
      "Good          4906\n",
      "Fair          1610\n",
      "Name: cut, dtype: int64\n",
      "******************************\n",
      "G    11292\n",
      "E     9799\n",
      "F     9543\n",
      "H     8304\n",
      "D     6775\n",
      "I     5422\n",
      "J     2808\n",
      "Name: color, dtype: int64\n",
      "******************************\n",
      "SI1     13067\n",
      "VS2     12259\n",
      "SI2      9194\n",
      "VS1      8171\n",
      "VVS2     5066\n",
      "VVS1     3655\n",
      "IF       1790\n",
      "I1        741\n",
      "Name: clarity, dtype: int64\n",
      "******************************\n"
     ]
    }
   ],
   "source": [
    "L = ('cut', 'color', 'clarity')\n",
    "\n",
    "for x in L:\n",
    "    print( df1[x].value_counts())\n",
    "    print( \"*\" *30)"
   ]
  },
  {
   "cell_type": "code",
   "execution_count": 14,
   "metadata": {},
   "outputs": [
    {
     "data": {
      "image/png": "[encoded data removed]",
      "text/plain": [
       "<Figure size 720x360 with 1 Axes>"
      ]
     },
     "metadata": {
      "needs_background": "light"
     },
     "output_type": "display_data"
    },
    {
     "data": {
      "image/png": "[encoded data removed]",
      "text/plain": [
       "<Figure size 720x360 with 1 Axes>"
      ]
     },
     "metadata": {
      "needs_background": "light"
     },
     "output_type": "display_data"
    },
    {
     "data": {
      "image/png": "[encoded data removed]",
      "text/plain": [
       "<Figure size 720x360 with 1 Axes>"
      ]
     },
     "metadata": {
      "needs_background": "light"
     },
     "output_type": "display_data"
    },
    {
     "data": {
      "image/png": "[encoded data removed]",
      "text/plain": [
       "<Figure size 720x360 with 1 Axes>"
      ]
     },
     "metadata": {
      "needs_background": "light"
     },
     "output_type": "display_data"
    },
    {
     "data": {
      "image/png": "[encoded data removed]",
      "text/plain": [
       "<Figure size 720x360 with 1 Axes>"
      ]
     },
     "metadata": {
      "needs_background": "light"
     },
     "output_type": "display_data"
    },
    {
     "data": {
      "image/png": "[encoded data removed]",
      "text/plain": [
       "<Figure size 720x360 with 1 Axes>"
      ]
     },
     "metadata": {
      "needs_background": "light"
     },
     "output_type": "display_data"
    },
    {
     "data": {
      "image/png": "[encoded data removed]",
      "text/plain": [
       "<Figure size 720x360 with 1 Axes>"
      ]
     },
     "metadata": {
      "needs_background": "light"
     },
     "output_type": "display_data"
    },
    {
     "data": {
      "image/png": "[encoded data removed]",
      "text/plain": [
       "<Figure size 720x360 with 1 Axes>"
      ]
     },
     "metadata": {
      "needs_background": "light"
     },
     "output_type": "display_data"
    },
    {
     "data": {
      "image/png": "[encoded data removed]",
      "text/plain": [
       "<Figure size 720x360 with 1 Axes>"
      ]
     },
     "metadata": {
      "needs_background": "light"
     },
     "output_type": "display_data"
    },
    {
     "data": {
      "image/png": "[encoded data removed]",
      "text/plain": [
       "<Figure size 720x360 with 1 Axes>"
      ]
     },
     "metadata": {
      "needs_background": "light"
     },
     "output_type": "display_data"
    }
   ],
   "source": [
    "import matplotlib.pyplot as plt\n",
    "import seaborn as sn\n",
    "L = ('carat', 'cut', 'color', 'clarity', 'depth', 'table', 'price',\"x\",\"y\",\"z\")\n",
    "for u in L:\n",
    "    plt.figure(figsize=(10,5))\n",
    "    plt.hist(df1[u], bins = 12)\n",
    "    plt.xlabel(\"\")\n",
    "    plt.ylabel(\"\")\n",
    "    plt.title(\"%s\" % u)"
   ]
  },
  {
   "cell_type": "markdown",
   "metadata": {},
   "source": [
    "Crear categoricas (onehot)"
   ]
  },
  {
   "cell_type": "code",
   "execution_count": 13,
   "metadata": {},
   "outputs": [],
   "source": [
    "Dummies = df1[['cut', 'color', 'clarity']]"
   ]
  },
  {
   "cell_type": "code",
   "execution_count": 14,
   "metadata": {},
   "outputs": [],
   "source": [
    "df2=df1.copy()"
   ]
  },
  {
   "cell_type": "code",
   "execution_count": 15,
   "metadata": {},
   "outputs": [],
   "source": [
    "y = df2[[\"price\"]]\n",
    "df2 = df2.drop(['cut', 'color', 'clarity',\"price\"], axis=1)"
   ]
  },
  {
   "cell_type": "code",
   "execution_count": 16,
   "metadata": {},
   "outputs": [],
   "source": [
    "train_df_mean = df2.mean()\n",
    "train_df_std = df2.std()\n",
    "train_df_norm = (df2 - train_df_mean)/train_df_std"
   ]
  },
  {
   "cell_type": "code",
   "execution_count": 17,
   "metadata": {},
   "outputs": [],
   "source": [
    "df3= train_df_norm.copy()"
   ]
  },
  {
   "cell_type": "code",
   "execution_count": 18,
   "metadata": {},
   "outputs": [
    {
     "data": {
      "text/html": [
       "<div>\n",
       "<style scoped>\n",
       "    .dataframe tbody tr th:only-of-type {\n",
       "        vertical-align: middle;\n",
       "    }\n",
       "\n",
       "    .dataframe tbody tr th {\n",
       "        vertical-align: top;\n",
       "    }\n",
       "\n",
       "    .dataframe thead th {\n",
       "        text-align: right;\n",
       "    }\n",
       "</style>\n",
       "<table border=\"1\" class=\"dataframe\">\n",
       "  <thead>\n",
       "    <tr style=\"text-align: right;\">\n",
       "      <th></th>\n",
       "      <th>carat</th>\n",
       "      <th>depth</th>\n",
       "      <th>table</th>\n",
       "      <th>x</th>\n",
       "      <th>y</th>\n",
       "      <th>z</th>\n",
       "    </tr>\n",
       "  </thead>\n",
       "  <tbody>\n",
       "    <tr>\n",
       "      <th>0</th>\n",
       "      <td>-1.198178</td>\n",
       "      <td>-0.174032</td>\n",
       "      <td>-1.099663</td>\n",
       "      <td>-1.587868</td>\n",
       "      <td>-1.536224</td>\n",
       "      <td>-1.571152</td>\n",
       "    </tr>\n",
       "    <tr>\n",
       "      <th>1</th>\n",
       "      <td>-1.240372</td>\n",
       "      <td>-1.360664</td>\n",
       "      <td>1.585442</td>\n",
       "      <td>-1.641356</td>\n",
       "      <td>-1.658805</td>\n",
       "      <td>-1.741201</td>\n",
       "    </tr>\n",
       "    <tr>\n",
       "      <th>2</th>\n",
       "      <td>-1.198178</td>\n",
       "      <td>-3.384918</td>\n",
       "      <td>3.375513</td>\n",
       "      <td>-1.498720</td>\n",
       "      <td>-1.457422</td>\n",
       "      <td>-1.741201</td>\n",
       "    </tr>\n",
       "    <tr>\n",
       "      <th>3</th>\n",
       "      <td>-1.071595</td>\n",
       "      <td>0.454185</td>\n",
       "      <td>0.242890</td>\n",
       "      <td>-1.364997</td>\n",
       "      <td>-1.317330</td>\n",
       "      <td>-1.287737</td>\n",
       "    </tr>\n",
       "  </tbody>\n",
       "</table>\n",
       "</div>"
      ],
      "text/plain": [
       "      carat     depth     table         x         y         z\n",
       "0 -1.198178 -0.174032 -1.099663 -1.587868 -1.536224 -1.571152\n",
       "1 -1.240372 -1.360664  1.585442 -1.641356 -1.658805 -1.741201\n",
       "2 -1.198178 -3.384918  3.375513 -1.498720 -1.457422 -1.741201\n",
       "3 -1.071595  0.454185  0.242890 -1.364997 -1.317330 -1.287737"
      ]
     },
     "execution_count": 18,
     "metadata": {},
     "output_type": "execute_result"
    }
   ],
   "source": [
    "df3.head(4)"
   ]
  },
  {
   "cell_type": "code",
   "execution_count": 19,
   "metadata": {},
   "outputs": [],
   "source": [
    "Categoricals = pd.get_dummies(Dummies[['cut', 'color', 'clarity']])"
   ]
  },
  {
   "cell_type": "code",
   "execution_count": 20,
   "metadata": {},
   "outputs": [],
   "source": [
    "df3 = pd.concat([df3,Categoricals,y],axis = 1)"
   ]
  },
  {
   "cell_type": "code",
   "execution_count": 21,
   "metadata": {},
   "outputs": [
    {
     "data": {
      "text/html": [
       "<div>\n",
       "<style scoped>\n",
       "    .dataframe tbody tr th:only-of-type {\n",
       "        vertical-align: middle;\n",
       "    }\n",
       "\n",
       "    .dataframe tbody tr th {\n",
       "        vertical-align: top;\n",
       "    }\n",
       "\n",
       "    .dataframe thead th {\n",
       "        text-align: right;\n",
       "    }\n",
       "</style>\n",
       "<table border=\"1\" class=\"dataframe\">\n",
       "  <thead>\n",
       "    <tr style=\"text-align: right;\">\n",
       "      <th></th>\n",
       "      <th>carat</th>\n",
       "      <th>depth</th>\n",
       "      <th>table</th>\n",
       "      <th>x</th>\n",
       "      <th>y</th>\n",
       "      <th>z</th>\n",
       "      <th>cut_Fair</th>\n",
       "      <th>cut_Good</th>\n",
       "      <th>cut_Ideal</th>\n",
       "      <th>cut_Premium</th>\n",
       "      <th>...</th>\n",
       "      <th>color_J</th>\n",
       "      <th>clarity_I1</th>\n",
       "      <th>clarity_IF</th>\n",
       "      <th>clarity_SI1</th>\n",
       "      <th>clarity_SI2</th>\n",
       "      <th>clarity_VS1</th>\n",
       "      <th>clarity_VS2</th>\n",
       "      <th>clarity_VVS1</th>\n",
       "      <th>clarity_VVS2</th>\n",
       "      <th>price</th>\n",
       "    </tr>\n",
       "  </thead>\n",
       "  <tbody>\n",
       "    <tr>\n",
       "      <th>0</th>\n",
       "      <td>-1.198178</td>\n",
       "      <td>-0.174032</td>\n",
       "      <td>-1.099663</td>\n",
       "      <td>-1.587868</td>\n",
       "      <td>-1.536224</td>\n",
       "      <td>-1.571152</td>\n",
       "      <td>0</td>\n",
       "      <td>0</td>\n",
       "      <td>1</td>\n",
       "      <td>0</td>\n",
       "      <td>...</td>\n",
       "      <td>0</td>\n",
       "      <td>0</td>\n",
       "      <td>0</td>\n",
       "      <td>0</td>\n",
       "      <td>1</td>\n",
       "      <td>0</td>\n",
       "      <td>0</td>\n",
       "      <td>0</td>\n",
       "      <td>0</td>\n",
       "      <td>326</td>\n",
       "    </tr>\n",
       "    <tr>\n",
       "      <th>1</th>\n",
       "      <td>-1.240372</td>\n",
       "      <td>-1.360664</td>\n",
       "      <td>1.585442</td>\n",
       "      <td>-1.641356</td>\n",
       "      <td>-1.658805</td>\n",
       "      <td>-1.741201</td>\n",
       "      <td>0</td>\n",
       "      <td>0</td>\n",
       "      <td>0</td>\n",
       "      <td>1</td>\n",
       "      <td>...</td>\n",
       "      <td>0</td>\n",
       "      <td>0</td>\n",
       "      <td>0</td>\n",
       "      <td>1</td>\n",
       "      <td>0</td>\n",
       "      <td>0</td>\n",
       "      <td>0</td>\n",
       "      <td>0</td>\n",
       "      <td>0</td>\n",
       "      <td>326</td>\n",
       "    </tr>\n",
       "    <tr>\n",
       "      <th>2</th>\n",
       "      <td>-1.198178</td>\n",
       "      <td>-3.384918</td>\n",
       "      <td>3.375513</td>\n",
       "      <td>-1.498720</td>\n",
       "      <td>-1.457422</td>\n",
       "      <td>-1.741201</td>\n",
       "      <td>0</td>\n",
       "      <td>1</td>\n",
       "      <td>0</td>\n",
       "      <td>0</td>\n",
       "      <td>...</td>\n",
       "      <td>0</td>\n",
       "      <td>0</td>\n",
       "      <td>0</td>\n",
       "      <td>0</td>\n",
       "      <td>0</td>\n",
       "      <td>1</td>\n",
       "      <td>0</td>\n",
       "      <td>0</td>\n",
       "      <td>0</td>\n",
       "      <td>327</td>\n",
       "    </tr>\n",
       "    <tr>\n",
       "      <th>3</th>\n",
       "      <td>-1.071595</td>\n",
       "      <td>0.454185</td>\n",
       "      <td>0.242890</td>\n",
       "      <td>-1.364997</td>\n",
       "      <td>-1.317330</td>\n",
       "      <td>-1.287737</td>\n",
       "      <td>0</td>\n",
       "      <td>0</td>\n",
       "      <td>0</td>\n",
       "      <td>1</td>\n",
       "      <td>...</td>\n",
       "      <td>0</td>\n",
       "      <td>0</td>\n",
       "      <td>0</td>\n",
       "      <td>0</td>\n",
       "      <td>0</td>\n",
       "      <td>0</td>\n",
       "      <td>1</td>\n",
       "      <td>0</td>\n",
       "      <td>0</td>\n",
       "      <td>334</td>\n",
       "    </tr>\n",
       "  </tbody>\n",
       "</table>\n",
       "<p>4 rows × 27 columns</p>\n",
       "</div>"
      ],
      "text/plain": [
       "      carat     depth     table         x         y         z  cut_Fair  \\\n",
       "0 -1.198178 -0.174032 -1.099663 -1.587868 -1.536224 -1.571152         0   \n",
       "1 -1.240372 -1.360664  1.585442 -1.641356 -1.658805 -1.741201         0   \n",
       "2 -1.198178 -3.384918  3.375513 -1.498720 -1.457422 -1.741201         0   \n",
       "3 -1.071595  0.454185  0.242890 -1.364997 -1.317330 -1.287737         0   \n",
       "\n",
       "   cut_Good  cut_Ideal  cut_Premium  ...  color_J  clarity_I1  clarity_IF  \\\n",
       "0         0          1            0  ...        0           0           0   \n",
       "1         0          0            1  ...        0           0           0   \n",
       "2         1          0            0  ...        0           0           0   \n",
       "3         0          0            1  ...        0           0           0   \n",
       "\n",
       "   clarity_SI1  clarity_SI2  clarity_VS1  clarity_VS2  clarity_VVS1  \\\n",
       "0            0            1            0            0             0   \n",
       "1            1            0            0            0             0   \n",
       "2            0            0            1            0             0   \n",
       "3            0            0            0            1             0   \n",
       "\n",
       "   clarity_VVS2  price  \n",
       "0             0    326  \n",
       "1             0    326  \n",
       "2             0    327  \n",
       "3             0    334  \n",
       "\n",
       "[4 rows x 27 columns]"
      ]
     },
     "execution_count": 21,
     "metadata": {},
     "output_type": "execute_result"
    }
   ],
   "source": [
    "df3.head(4)"
   ]
  },
  {
   "cell_type": "markdown",
   "metadata": {},
   "source": [
    "Mirar correlaciones"
   ]
  },
  {
   "cell_type": "code",
   "execution_count": 24,
   "metadata": {},
   "outputs": [
    {
     "data": {
      "image/png": "[encoded data removed]",
      "text/plain": [
       "<Figure size 1944x1944 with 2 Axes>"
      ]
     },
     "metadata": {
      "needs_background": "light"
     },
     "output_type": "display_data"
    }
   ],
   "source": [
    "plt.figure(figsize=(27,27));\n",
    "sns.heatmap(df3.corr(),annot=True,cmap='RdBu',linewidth=0.01, annot_kws={'size': 13});\n",
    "plt.title('Correlation Heatmap',fontsize=12,fontweight=3);"
   ]
  },
  {
   "cell_type": "markdown",
   "metadata": {},
   "source": [
    "Las correlaciones muestran que el precio depende mucho de la variable carat y de los x,y,z (x: length in mm, y: width in mm,z: depth in mm). Sin embargo, se debe prestar atención al PROBLEMA DE LA MULTICOLINEALIDAD.\n",
    "\n",
    "Este modelo, sin embargo, se pedue predecir fácilmente con la variable CARAT. Ya que tienen una correlación muy alta."
   ]
  },
  {
   "cell_type": "code",
   "execution_count": 24,
   "metadata": {},
   "outputs": [],
   "source": [
    "df3['table_xy'] = (df3['table'].mean()*(df3['x']*df3['y']).mean()-df3['table']*(df3['x']*df3['y']))\n",
    "df3['depth_z'] = (df3['depth'].mean()*df3['z'].mean()-df3['depth']*df3['z'])"
   ]
  },
  {
   "cell_type": "code",
   "execution_count": 26,
   "metadata": {},
   "outputs": [],
   "source": [
    "Y = df3[[\"price\"]]\n",
    "X=df3.drop(\"price\",axis=1)"
   ]
  },
  {
   "cell_type": "markdown",
   "metadata": {},
   "source": [
    "Se llaman a los modelos que se van usar, scores y losses"
   ]
  },
  {
   "cell_type": "code",
   "execution_count": 22,
   "metadata": {},
   "outputs": [],
   "source": [
    "from sklearn.model_selection import train_test_split\n",
    "from sklearn.preprocessing import RobustScaler\n",
    "from sklearn.ensemble import RandomForestRegressor\n",
    "from sklearn.metrics import r2_score\n",
    "from sklearn.metrics import mean_squared_error as mse\n",
    "from sklearn.linear_model import LinearRegression\n",
    "from sklearn.linear_model import LogisticRegression"
   ]
  },
  {
   "cell_type": "code",
   "execution_count": 27,
   "metadata": {},
   "outputs": [],
   "source": [
    "# Con RandomForest\n",
    "acc=[]\n",
    "for i in [0, 1, 2, 3, 4, 5, 42]:\n",
    "    X_train,X_test,y_train,y_test = train_test_split(X,Y,test_size=0.2,random_state=i)\n",
    "    model = RandomForestRegressor(n_estimators=20, min_samples_leaf=3, random_state=1)\n",
    "    model.fit(X_train,y_train.values.ravel())\n",
    "    y_pred = model.predict(X_test)\n",
    "    acc.append(r2_score(y_test.values.ravel(), y_pred))"
   ]
  },
  {
   "cell_type": "code",
   "execution_count": 28,
   "metadata": {},
   "outputs": [
    {
     "data": {
      "text/plain": [
       "0.9800505086270717"
      ]
     },
     "execution_count": 28,
     "metadata": {},
     "output_type": "execute_result"
    }
   ],
   "source": [
    "y_pred = model.predict(X_test)\n",
    "r2_score(y_test.values.ravel(), y_pred)"
   ]
  },
  {
   "cell_type": "code",
   "execution_count": 29,
   "metadata": {},
   "outputs": [
    {
     "data": {
      "text/plain": [
       "[0.9781314159868646,\n",
       " 0.9795320754005873,\n",
       " 0.9796153260794581,\n",
       " 0.9810592448357489,\n",
       " 0.9811154871870943,\n",
       " 0.9803676741477361,\n",
       " 0.9800505086270717]"
      ]
     },
     "execution_count": 29,
     "metadata": {},
     "output_type": "execute_result"
    }
   ],
   "source": [
    "acc"
   ]
  },
  {
   "cell_type": "code",
   "execution_count": 30,
   "metadata": {
    "scrolled": true
   },
   "outputs": [
    {
     "data": {
      "text/plain": [
       "(1126.823982552178, 1087.9770396266413)"
      ]
     },
     "execution_count": 30,
     "metadata": {},
     "output_type": "execute_result"
    }
   ],
   "source": [
    "# Con Regresion Linear\n",
    "\n",
    "lm=LinearRegression().fit(X_train,y_train)\n",
    "\n",
    "mse(lm.predict(X_train),y_train,squared=False), mse(lm.predict(X_test),y_test,squared=False)"
   ]
  },
  {
   "cell_type": "code",
   "execution_count": 31,
   "metadata": {},
   "outputs": [
    {
     "name": "stdout",
     "output_type": "stream",
     "text": [
      "0.9205865911530444\n",
      "0.9241860343868366\n"
     ]
    }
   ],
   "source": [
    "print(lm.score(X_train,y_train))\n",
    "print(lm.score(X_test,y_test))"
   ]
  },
  {
   "cell_type": "code",
   "execution_count": 32,
   "metadata": {},
   "outputs": [
    {
     "data": {
      "text/plain": [
       "0.9241860343868366"
      ]
     },
     "execution_count": 32,
     "metadata": {},
     "output_type": "execute_result"
    }
   ],
   "source": [
    "y_pred = lm.predict(X_test)\n",
    "r2_score(y_test.values.ravel(), y_pred)"
   ]
  },
  {
   "cell_type": "markdown",
   "metadata": {},
   "source": [
    "Con Feature engineering"
   ]
  },
  {
   "cell_type": "code",
   "execution_count": 25,
   "metadata": {},
   "outputs": [],
   "source": [
    "df4 = df3.copy()\n",
    "\n",
    "df4 = df4.drop([\"table_xy\",\"depth_z\"], axis=1)"
   ]
  },
  {
   "cell_type": "code",
   "execution_count": 26,
   "metadata": {},
   "outputs": [
    {
     "data": {
      "text/html": [
       "<div>\n",
       "<style scoped>\n",
       "    .dataframe tbody tr th:only-of-type {\n",
       "        vertical-align: middle;\n",
       "    }\n",
       "\n",
       "    .dataframe tbody tr th {\n",
       "        vertical-align: top;\n",
       "    }\n",
       "\n",
       "    .dataframe thead th {\n",
       "        text-align: right;\n",
       "    }\n",
       "</style>\n",
       "<table border=\"1\" class=\"dataframe\">\n",
       "  <thead>\n",
       "    <tr style=\"text-align: right;\">\n",
       "      <th></th>\n",
       "      <th>carat</th>\n",
       "      <th>depth</th>\n",
       "      <th>table</th>\n",
       "      <th>x</th>\n",
       "      <th>y</th>\n",
       "      <th>z</th>\n",
       "      <th>cut_Fair</th>\n",
       "      <th>cut_Good</th>\n",
       "      <th>cut_Ideal</th>\n",
       "      <th>cut_Premium</th>\n",
       "      <th>...</th>\n",
       "      <th>color_J</th>\n",
       "      <th>clarity_I1</th>\n",
       "      <th>clarity_IF</th>\n",
       "      <th>clarity_SI1</th>\n",
       "      <th>clarity_SI2</th>\n",
       "      <th>clarity_VS1</th>\n",
       "      <th>clarity_VS2</th>\n",
       "      <th>clarity_VVS1</th>\n",
       "      <th>clarity_VVS2</th>\n",
       "      <th>price</th>\n",
       "    </tr>\n",
       "  </thead>\n",
       "  <tbody>\n",
       "    <tr>\n",
       "      <th>0</th>\n",
       "      <td>-1.198178</td>\n",
       "      <td>-0.174032</td>\n",
       "      <td>-1.099663</td>\n",
       "      <td>-1.587868</td>\n",
       "      <td>-1.536224</td>\n",
       "      <td>-1.571152</td>\n",
       "      <td>0</td>\n",
       "      <td>0</td>\n",
       "      <td>1</td>\n",
       "      <td>0</td>\n",
       "      <td>...</td>\n",
       "      <td>0</td>\n",
       "      <td>0</td>\n",
       "      <td>0</td>\n",
       "      <td>0</td>\n",
       "      <td>1</td>\n",
       "      <td>0</td>\n",
       "      <td>0</td>\n",
       "      <td>0</td>\n",
       "      <td>0</td>\n",
       "      <td>326</td>\n",
       "    </tr>\n",
       "    <tr>\n",
       "      <th>1</th>\n",
       "      <td>-1.240372</td>\n",
       "      <td>-1.360664</td>\n",
       "      <td>1.585442</td>\n",
       "      <td>-1.641356</td>\n",
       "      <td>-1.658805</td>\n",
       "      <td>-1.741201</td>\n",
       "      <td>0</td>\n",
       "      <td>0</td>\n",
       "      <td>0</td>\n",
       "      <td>1</td>\n",
       "      <td>...</td>\n",
       "      <td>0</td>\n",
       "      <td>0</td>\n",
       "      <td>0</td>\n",
       "      <td>1</td>\n",
       "      <td>0</td>\n",
       "      <td>0</td>\n",
       "      <td>0</td>\n",
       "      <td>0</td>\n",
       "      <td>0</td>\n",
       "      <td>326</td>\n",
       "    </tr>\n",
       "    <tr>\n",
       "      <th>2</th>\n",
       "      <td>-1.198178</td>\n",
       "      <td>-3.384918</td>\n",
       "      <td>3.375513</td>\n",
       "      <td>-1.498720</td>\n",
       "      <td>-1.457422</td>\n",
       "      <td>-1.741201</td>\n",
       "      <td>0</td>\n",
       "      <td>1</td>\n",
       "      <td>0</td>\n",
       "      <td>0</td>\n",
       "      <td>...</td>\n",
       "      <td>0</td>\n",
       "      <td>0</td>\n",
       "      <td>0</td>\n",
       "      <td>0</td>\n",
       "      <td>0</td>\n",
       "      <td>1</td>\n",
       "      <td>0</td>\n",
       "      <td>0</td>\n",
       "      <td>0</td>\n",
       "      <td>327</td>\n",
       "    </tr>\n",
       "    <tr>\n",
       "      <th>3</th>\n",
       "      <td>-1.071595</td>\n",
       "      <td>0.454185</td>\n",
       "      <td>0.242890</td>\n",
       "      <td>-1.364997</td>\n",
       "      <td>-1.317330</td>\n",
       "      <td>-1.287737</td>\n",
       "      <td>0</td>\n",
       "      <td>0</td>\n",
       "      <td>0</td>\n",
       "      <td>1</td>\n",
       "      <td>...</td>\n",
       "      <td>0</td>\n",
       "      <td>0</td>\n",
       "      <td>0</td>\n",
       "      <td>0</td>\n",
       "      <td>0</td>\n",
       "      <td>0</td>\n",
       "      <td>1</td>\n",
       "      <td>0</td>\n",
       "      <td>0</td>\n",
       "      <td>334</td>\n",
       "    </tr>\n",
       "    <tr>\n",
       "      <th>4</th>\n",
       "      <td>-1.029401</td>\n",
       "      <td>1.082402</td>\n",
       "      <td>0.242890</td>\n",
       "      <td>-1.240190</td>\n",
       "      <td>-1.212261</td>\n",
       "      <td>-1.117688</td>\n",
       "      <td>0</td>\n",
       "      <td>1</td>\n",
       "      <td>0</td>\n",
       "      <td>0</td>\n",
       "      <td>...</td>\n",
       "      <td>1</td>\n",
       "      <td>0</td>\n",
       "      <td>0</td>\n",
       "      <td>0</td>\n",
       "      <td>1</td>\n",
       "      <td>0</td>\n",
       "      <td>0</td>\n",
       "      <td>0</td>\n",
       "      <td>0</td>\n",
       "      <td>335</td>\n",
       "    </tr>\n",
       "  </tbody>\n",
       "</table>\n",
       "<p>5 rows × 27 columns</p>\n",
       "</div>"
      ],
      "text/plain": [
       "      carat     depth     table         x         y         z  cut_Fair  \\\n",
       "0 -1.198178 -0.174032 -1.099663 -1.587868 -1.536224 -1.571152         0   \n",
       "1 -1.240372 -1.360664  1.585442 -1.641356 -1.658805 -1.741201         0   \n",
       "2 -1.198178 -3.384918  3.375513 -1.498720 -1.457422 -1.741201         0   \n",
       "3 -1.071595  0.454185  0.242890 -1.364997 -1.317330 -1.287737         0   \n",
       "4 -1.029401  1.082402  0.242890 -1.240190 -1.212261 -1.117688         0   \n",
       "\n",
       "   cut_Good  cut_Ideal  cut_Premium  ...  color_J  clarity_I1  clarity_IF  \\\n",
       "0         0          1            0  ...        0           0           0   \n",
       "1         0          0            1  ...        0           0           0   \n",
       "2         1          0            0  ...        0           0           0   \n",
       "3         0          0            1  ...        0           0           0   \n",
       "4         1          0            0  ...        1           0           0   \n",
       "\n",
       "   clarity_SI1  clarity_SI2  clarity_VS1  clarity_VS2  clarity_VVS1  \\\n",
       "0            0            1            0            0             0   \n",
       "1            1            0            0            0             0   \n",
       "2            0            0            1            0             0   \n",
       "3            0            0            0            1             0   \n",
       "4            0            1            0            0             0   \n",
       "\n",
       "   clarity_VVS2  price  \n",
       "0             0    326  \n",
       "1             0    326  \n",
       "2             0    327  \n",
       "3             0    334  \n",
       "4             0    335  \n",
       "\n",
       "[5 rows x 27 columns]"
      ]
     },
     "execution_count": 26,
     "metadata": {},
     "output_type": "execute_result"
    }
   ],
   "source": [
    "df4.head()"
   ]
  },
  {
   "cell_type": "code",
   "execution_count": 33,
   "metadata": {},
   "outputs": [],
   "source": [
    "y1 = df4[[\"price\"]]\n",
    "x1 = df4.drop(\"price\",axis=1)"
   ]
  },
  {
   "cell_type": "code",
   "execution_count": null,
   "metadata": {},
   "outputs": [],
   "source": [
    "acc2=[]\n",
    "for i in [0, 1, 2, 3, 4, 5, 42]:\n",
    "    X_train2,X_test2,y_train2,y_test2 = train_test_split(x1,y1,test_size=0.2,random_state=i)\n",
    "    model2 = RandomForestRegressor(n_estimators=50, min_samples_leaf=3, random_state=1)\n",
    "    model2.fit(X_train2,y_train2.values.ravel())\n",
    "    y_pred2 = model2.predict(X_test2)\n",
    "    acc2.append(r2_score(y_test2.values.ravel(), y_pred2))"
   ]
  },
  {
   "cell_type": "code",
   "execution_count": null,
   "metadata": {},
   "outputs": [],
   "source": [
    "y_pred2 = model2.predict(X_test2)\n",
    "r2_score(y_test2.values.ravel(), y_pred2)"
   ]
  },
  {
   "cell_type": "code",
   "execution_count": null,
   "metadata": {},
   "outputs": [],
   "source": [
    "acc2"
   ]
  },
  {
   "cell_type": "code",
   "execution_count": 39,
   "metadata": {
    "scrolled": true
   },
   "outputs": [
    {
     "data": {
      "text/plain": [
       "(1136.9524916842438, 1102.1185428737554)"
      ]
     },
     "execution_count": 39,
     "metadata": {},
     "output_type": "execute_result"
    }
   ],
   "source": [
    "lm2=LinearRegression().fit(X_train2,y_train2)\n",
    "\n",
    "mse(lm2.predict(X_train2),y_train2,squared=False), mse(lm2.predict(X_test2),y_test2,squared=False)"
   ]
  },
  {
   "cell_type": "code",
   "execution_count": 40,
   "metadata": {},
   "outputs": [
    {
     "name": "stdout",
     "output_type": "stream",
     "text": [
      "0.9191525528822694\n",
      "0.9222023690688379\n"
     ]
    }
   ],
   "source": [
    "print(lm2.score(X_train2,y_train2))\n",
    "print(lm2.score(X_test2,y_test2))"
   ]
  },
  {
   "cell_type": "code",
   "execution_count": 41,
   "metadata": {},
   "outputs": [
    {
     "data": {
      "text/plain": [
       "0.9222023690688379"
      ]
     },
     "execution_count": 41,
     "metadata": {},
     "output_type": "execute_result"
    }
   ],
   "source": [
    "y_pred2 = lm2.predict(X_test2)\n",
    "r2_score(y_test2.values.ravel(), y_pred2)"
   ]
  },
  {
   "cell_type": "markdown",
   "metadata": {},
   "source": [
    "##### Resolviendo el problema de la Multicolinealidad"
   ]
  },
  {
   "cell_type": "code",
   "execution_count": 42,
   "metadata": {},
   "outputs": [],
   "source": [
    "import statsmodels.formula.api as smf"
   ]
  },
  {
   "cell_type": "code",
   "execution_count": 43,
   "metadata": {},
   "outputs": [
    {
     "data": {
      "text/plain": [
       "47.86182699924188"
      ]
     },
     "execution_count": 43,
     "metadata": {},
     "output_type": "execute_result"
    }
   ],
   "source": [
    "lm_x = smf.ols(formula=\"x~y+z+carat\", data= df4).fit()\n",
    "rsquared = lm_x.rsquared\n",
    "VIF = 1/(1-rsquared)\n",
    "VIF"
   ]
  },
  {
   "cell_type": "code",
   "execution_count": 44,
   "metadata": {},
   "outputs": [
    {
     "data": {
      "text/plain": [
       "47.86182699924188"
      ]
     },
     "execution_count": 44,
     "metadata": {},
     "output_type": "execute_result"
    }
   ],
   "source": [
    "lm_y = smf.ols(formula=\"y~x+z+carat\", data= df4).fit()\n",
    "rsquared = lm_x.rsquared\n",
    "VIF = 1/(1-rsquared)\n",
    "VIF"
   ]
  },
  {
   "cell_type": "code",
   "execution_count": 45,
   "metadata": {},
   "outputs": [
    {
     "data": {
      "text/plain": [
       "17.846590839832363"
      ]
     },
     "execution_count": 45,
     "metadata": {},
     "output_type": "execute_result"
    }
   ],
   "source": [
    "lm_x = smf.ols(formula=\"z~x+y+carat\", data= df4).fit()\n",
    "rsquared = lm_x.rsquared\n",
    "VIF = 1/(1-rsquared)\n",
    "VIF"
   ]
  },
  {
   "cell_type": "code",
   "execution_count": 46,
   "metadata": {},
   "outputs": [
    {
     "data": {
      "text/plain": [
       "20.667811827154015"
      ]
     },
     "execution_count": 46,
     "metadata": {},
     "output_type": "execute_result"
    }
   ],
   "source": [
    "lm_x = smf.ols(formula=\"carat~y+z+x\", data= df4).fit()\n",
    "rsquared = lm_x.rsquared\n",
    "VIF = 1/(1-rsquared)\n",
    "VIF"
   ]
  },
  {
   "cell_type": "code",
   "execution_count": 50,
   "metadata": {},
   "outputs": [
    {
     "data": {
      "text/plain": [
       "1.432751047591402"
      ]
     },
     "execution_count": 50,
     "metadata": {},
     "output_type": "execute_result"
    }
   ],
   "source": [
    "###      cut_Ideal, poca colinearidad\n",
    "lm_x = smf.ols(formula=\"table~cut_Ideal\", data= df5).fit()\n",
    "rsquared = lm_x.rsquared\n",
    "VIF = 1/(1-rsquared)\n",
    "VIF"
   ]
  },
  {
   "cell_type": "markdown",
   "metadata": {},
   "source": [
    "En todos los casos los VIF son signifcativos, por lo tanto se tienen que eliminar o busca rotra forma de resolve rel problema"
   ]
  },
  {
   "cell_type": "markdown",
   "metadata": {},
   "source": [
    "##### Se eliminan todos los valores con VIF altos entre ellos excepto uno"
   ]
  },
  {
   "cell_type": "code",
   "execution_count": 27,
   "metadata": {},
   "outputs": [],
   "source": [
    "df5 =df4.copy()"
   ]
  },
  {
   "cell_type": "code",
   "execution_count": 28,
   "metadata": {},
   "outputs": [
    {
     "data": {
      "text/html": [
       "<div>\n",
       "<style scoped>\n",
       "    .dataframe tbody tr th:only-of-type {\n",
       "        vertical-align: middle;\n",
       "    }\n",
       "\n",
       "    .dataframe tbody tr th {\n",
       "        vertical-align: top;\n",
       "    }\n",
       "\n",
       "    .dataframe thead th {\n",
       "        text-align: right;\n",
       "    }\n",
       "</style>\n",
       "<table border=\"1\" class=\"dataframe\">\n",
       "  <thead>\n",
       "    <tr style=\"text-align: right;\">\n",
       "      <th></th>\n",
       "      <th>carat</th>\n",
       "      <th>depth</th>\n",
       "      <th>table</th>\n",
       "      <th>x</th>\n",
       "      <th>y</th>\n",
       "      <th>z</th>\n",
       "      <th>cut_Fair</th>\n",
       "      <th>cut_Good</th>\n",
       "      <th>cut_Ideal</th>\n",
       "      <th>cut_Premium</th>\n",
       "      <th>...</th>\n",
       "      <th>color_J</th>\n",
       "      <th>clarity_I1</th>\n",
       "      <th>clarity_IF</th>\n",
       "      <th>clarity_SI1</th>\n",
       "      <th>clarity_SI2</th>\n",
       "      <th>clarity_VS1</th>\n",
       "      <th>clarity_VS2</th>\n",
       "      <th>clarity_VVS1</th>\n",
       "      <th>clarity_VVS2</th>\n",
       "      <th>price</th>\n",
       "    </tr>\n",
       "  </thead>\n",
       "  <tbody>\n",
       "    <tr>\n",
       "      <th>0</th>\n",
       "      <td>-1.198178</td>\n",
       "      <td>-0.174032</td>\n",
       "      <td>-1.099663</td>\n",
       "      <td>-1.587868</td>\n",
       "      <td>-1.536224</td>\n",
       "      <td>-1.571152</td>\n",
       "      <td>0</td>\n",
       "      <td>0</td>\n",
       "      <td>1</td>\n",
       "      <td>0</td>\n",
       "      <td>...</td>\n",
       "      <td>0</td>\n",
       "      <td>0</td>\n",
       "      <td>0</td>\n",
       "      <td>0</td>\n",
       "      <td>1</td>\n",
       "      <td>0</td>\n",
       "      <td>0</td>\n",
       "      <td>0</td>\n",
       "      <td>0</td>\n",
       "      <td>326</td>\n",
       "    </tr>\n",
       "    <tr>\n",
       "      <th>1</th>\n",
       "      <td>-1.240372</td>\n",
       "      <td>-1.360664</td>\n",
       "      <td>1.585442</td>\n",
       "      <td>-1.641356</td>\n",
       "      <td>-1.658805</td>\n",
       "      <td>-1.741201</td>\n",
       "      <td>0</td>\n",
       "      <td>0</td>\n",
       "      <td>0</td>\n",
       "      <td>1</td>\n",
       "      <td>...</td>\n",
       "      <td>0</td>\n",
       "      <td>0</td>\n",
       "      <td>0</td>\n",
       "      <td>1</td>\n",
       "      <td>0</td>\n",
       "      <td>0</td>\n",
       "      <td>0</td>\n",
       "      <td>0</td>\n",
       "      <td>0</td>\n",
       "      <td>326</td>\n",
       "    </tr>\n",
       "    <tr>\n",
       "      <th>2</th>\n",
       "      <td>-1.198178</td>\n",
       "      <td>-3.384918</td>\n",
       "      <td>3.375513</td>\n",
       "      <td>-1.498720</td>\n",
       "      <td>-1.457422</td>\n",
       "      <td>-1.741201</td>\n",
       "      <td>0</td>\n",
       "      <td>1</td>\n",
       "      <td>0</td>\n",
       "      <td>0</td>\n",
       "      <td>...</td>\n",
       "      <td>0</td>\n",
       "      <td>0</td>\n",
       "      <td>0</td>\n",
       "      <td>0</td>\n",
       "      <td>0</td>\n",
       "      <td>1</td>\n",
       "      <td>0</td>\n",
       "      <td>0</td>\n",
       "      <td>0</td>\n",
       "      <td>327</td>\n",
       "    </tr>\n",
       "    <tr>\n",
       "      <th>3</th>\n",
       "      <td>-1.071595</td>\n",
       "      <td>0.454185</td>\n",
       "      <td>0.242890</td>\n",
       "      <td>-1.364997</td>\n",
       "      <td>-1.317330</td>\n",
       "      <td>-1.287737</td>\n",
       "      <td>0</td>\n",
       "      <td>0</td>\n",
       "      <td>0</td>\n",
       "      <td>1</td>\n",
       "      <td>...</td>\n",
       "      <td>0</td>\n",
       "      <td>0</td>\n",
       "      <td>0</td>\n",
       "      <td>0</td>\n",
       "      <td>0</td>\n",
       "      <td>0</td>\n",
       "      <td>1</td>\n",
       "      <td>0</td>\n",
       "      <td>0</td>\n",
       "      <td>334</td>\n",
       "    </tr>\n",
       "    <tr>\n",
       "      <th>4</th>\n",
       "      <td>-1.029401</td>\n",
       "      <td>1.082402</td>\n",
       "      <td>0.242890</td>\n",
       "      <td>-1.240190</td>\n",
       "      <td>-1.212261</td>\n",
       "      <td>-1.117688</td>\n",
       "      <td>0</td>\n",
       "      <td>1</td>\n",
       "      <td>0</td>\n",
       "      <td>0</td>\n",
       "      <td>...</td>\n",
       "      <td>1</td>\n",
       "      <td>0</td>\n",
       "      <td>0</td>\n",
       "      <td>0</td>\n",
       "      <td>1</td>\n",
       "      <td>0</td>\n",
       "      <td>0</td>\n",
       "      <td>0</td>\n",
       "      <td>0</td>\n",
       "      <td>335</td>\n",
       "    </tr>\n",
       "  </tbody>\n",
       "</table>\n",
       "<p>5 rows × 27 columns</p>\n",
       "</div>"
      ],
      "text/plain": [
       "      carat     depth     table         x         y         z  cut_Fair  \\\n",
       "0 -1.198178 -0.174032 -1.099663 -1.587868 -1.536224 -1.571152         0   \n",
       "1 -1.240372 -1.360664  1.585442 -1.641356 -1.658805 -1.741201         0   \n",
       "2 -1.198178 -3.384918  3.375513 -1.498720 -1.457422 -1.741201         0   \n",
       "3 -1.071595  0.454185  0.242890 -1.364997 -1.317330 -1.287737         0   \n",
       "4 -1.029401  1.082402  0.242890 -1.240190 -1.212261 -1.117688         0   \n",
       "\n",
       "   cut_Good  cut_Ideal  cut_Premium  ...  color_J  clarity_I1  clarity_IF  \\\n",
       "0         0          1            0  ...        0           0           0   \n",
       "1         0          0            1  ...        0           0           0   \n",
       "2         1          0            0  ...        0           0           0   \n",
       "3         0          0            1  ...        0           0           0   \n",
       "4         1          0            0  ...        1           0           0   \n",
       "\n",
       "   clarity_SI1  clarity_SI2  clarity_VS1  clarity_VS2  clarity_VVS1  \\\n",
       "0            0            1            0            0             0   \n",
       "1            1            0            0            0             0   \n",
       "2            0            0            1            0             0   \n",
       "3            0            0            0            1             0   \n",
       "4            0            1            0            0             0   \n",
       "\n",
       "   clarity_VVS2  price  \n",
       "0             0    326  \n",
       "1             0    326  \n",
       "2             0    327  \n",
       "3             0    334  \n",
       "4             0    335  \n",
       "\n",
       "[5 rows x 27 columns]"
      ]
     },
     "execution_count": 28,
     "metadata": {},
     "output_type": "execute_result"
    }
   ],
   "source": [
    "df5.head()"
   ]
  },
  {
   "cell_type": "code",
   "execution_count": 29,
   "metadata": {},
   "outputs": [],
   "source": [
    "df5 = df5.drop([\"x\",\"y\",\"z\"], axis=1)\n",
    "### Se eliminana las variables x y z por la maldición de la Multicolinealidad. "
   ]
  },
  {
   "cell_type": "code",
   "execution_count": 30,
   "metadata": {},
   "outputs": [],
   "source": [
    "y2 = df5[[\"price\"]]\n",
    "x2 = df5.drop(\"price\",axis=1)"
   ]
  },
  {
   "cell_type": "code",
   "execution_count": 53,
   "metadata": {},
   "outputs": [
    {
     "data": {
      "text/html": [
       "<div>\n",
       "<style scoped>\n",
       "    .dataframe tbody tr th:only-of-type {\n",
       "        vertical-align: middle;\n",
       "    }\n",
       "\n",
       "    .dataframe tbody tr th {\n",
       "        vertical-align: top;\n",
       "    }\n",
       "\n",
       "    .dataframe thead th {\n",
       "        text-align: right;\n",
       "    }\n",
       "</style>\n",
       "<table border=\"1\" class=\"dataframe\">\n",
       "  <thead>\n",
       "    <tr style=\"text-align: right;\">\n",
       "      <th></th>\n",
       "      <th>price</th>\n",
       "    </tr>\n",
       "  </thead>\n",
       "  <tbody>\n",
       "    <tr>\n",
       "      <th>0</th>\n",
       "      <td>326</td>\n",
       "    </tr>\n",
       "    <tr>\n",
       "      <th>1</th>\n",
       "      <td>326</td>\n",
       "    </tr>\n",
       "    <tr>\n",
       "      <th>2</th>\n",
       "      <td>327</td>\n",
       "    </tr>\n",
       "    <tr>\n",
       "      <th>3</th>\n",
       "      <td>334</td>\n",
       "    </tr>\n",
       "    <tr>\n",
       "      <th>4</th>\n",
       "      <td>335</td>\n",
       "    </tr>\n",
       "  </tbody>\n",
       "</table>\n",
       "</div>"
      ],
      "text/plain": [
       "   price\n",
       "0    326\n",
       "1    326\n",
       "2    327\n",
       "3    334\n",
       "4    335"
      ]
     },
     "execution_count": 53,
     "metadata": {},
     "output_type": "execute_result"
    }
   ],
   "source": [
    "y2.head()"
   ]
  },
  {
   "cell_type": "code",
   "execution_count": 54,
   "metadata": {},
   "outputs": [],
   "source": [
    "acc3=[]\n",
    "for i in [0, 1, 2, 3, 4, 5, 42]:\n",
    "    X_train3,X_test3, y_train3,y_test3 = train_test_split(x2,y2,test_size=0.2,random_state=i)\n",
    "    model3 = RandomForestRegressor(n_estimators=20, min_samples_leaf=3, random_state=1)\n",
    "    model3.fit(X_train3,y_train3.values.ravel())\n",
    "    y_pred3 = model3.predict(X_test3)\n",
    "    acc3.append(r2_score(y_test3.values.ravel(), y_pred3))"
   ]
  },
  {
   "cell_type": "code",
   "execution_count": 55,
   "metadata": {},
   "outputs": [
    {
     "data": {
      "text/plain": [
       "[0.9797149233424144,\n",
       " 0.9805664262244896,\n",
       " 0.9795716432399117,\n",
       " 0.9811245245564648,\n",
       " 0.9805139322385353,\n",
       " 0.9813128112850029,\n",
       " 0.9808057174552535]"
      ]
     },
     "execution_count": 55,
     "metadata": {},
     "output_type": "execute_result"
    }
   ],
   "source": [
    "acc3"
   ]
  },
  {
   "cell_type": "code",
   "execution_count": 56,
   "metadata": {},
   "outputs": [],
   "source": [
    "X_train3,X_test3, y_train3,y_test3 = train_test_split(x2,y2,test_size=0.2,random_state=2)"
   ]
  },
  {
   "cell_type": "code",
   "execution_count": 57,
   "metadata": {
    "scrolled": true
   },
   "outputs": [
    {
     "data": {
      "text/plain": [
       "(1157.54365407815, 1149.4711869195967)"
      ]
     },
     "execution_count": 57,
     "metadata": {},
     "output_type": "execute_result"
    }
   ],
   "source": [
    "lm3=LinearRegression().fit(X_train3,y_train3)\n",
    "\n",
    "mse(lm3.predict(X_train3),y_train3,squared=False), mse(lm3.predict(X_test3),y_test3,squared=False)"
   ]
  },
  {
   "cell_type": "code",
   "execution_count": 58,
   "metadata": {},
   "outputs": [
    {
     "name": "stdout",
     "output_type": "stream",
     "text": [
      "0.9161832761963641\n",
      "0.9154520289682624\n"
     ]
    }
   ],
   "source": [
    "print(lm3.score(X_train3,y_train3))\n",
    "print(lm3.score(X_test3,y_test3))"
   ]
  },
  {
   "cell_type": "code",
   "execution_count": 59,
   "metadata": {
    "scrolled": true
   },
   "outputs": [
    {
     "data": {
      "text/plain": [
       "0.9154520289682624"
      ]
     },
     "execution_count": 59,
     "metadata": {},
     "output_type": "execute_result"
    }
   ],
   "source": [
    "y_pred3 = lm3.predict(X_test3)\n",
    "r2_score(y_test3.values.ravel(), y_pred3)\n",
    "\n",
    "### Los resultados sin las variables Multicolineales, son similares a los anteriores, y a su vez son buenos."
   ]
  },
  {
   "cell_type": "markdown",
   "metadata": {},
   "source": [
    "Deshaciendose de la Multicolinealidad con PLSRegression"
   ]
  },
  {
   "cell_type": "code",
   "execution_count": 32,
   "metadata": {},
   "outputs": [],
   "source": [
    "df6 =df4.copy()"
   ]
  },
  {
   "cell_type": "code",
   "execution_count": 61,
   "metadata": {},
   "outputs": [],
   "source": [
    "import numpy as np\n",
    "import pandas as pd\n",
    "import matplotlib.pyplot as plt\n",
    "from sklearn.preprocessing import scale \n",
    "from sklearn import model_selection\n",
    "from sklearn.model_selection import RepeatedKFold\n",
    "from sklearn.model_selection import train_test_split\n",
    "from sklearn.cross_decomposition import PLSRegression\n",
    "from sklearn.metrics import mean_squared_error"
   ]
  },
  {
   "cell_type": "code",
   "execution_count": 62,
   "metadata": {},
   "outputs": [
    {
     "data": {
      "text/html": [
       "<div>\n",
       "<style scoped>\n",
       "    .dataframe tbody tr th:only-of-type {\n",
       "        vertical-align: middle;\n",
       "    }\n",
       "\n",
       "    .dataframe tbody tr th {\n",
       "        vertical-align: top;\n",
       "    }\n",
       "\n",
       "    .dataframe thead th {\n",
       "        text-align: right;\n",
       "    }\n",
       "</style>\n",
       "<table border=\"1\" class=\"dataframe\">\n",
       "  <thead>\n",
       "    <tr style=\"text-align: right;\">\n",
       "      <th></th>\n",
       "      <th>carat</th>\n",
       "      <th>depth</th>\n",
       "      <th>table</th>\n",
       "      <th>x</th>\n",
       "      <th>y</th>\n",
       "      <th>z</th>\n",
       "      <th>cut_Fair</th>\n",
       "      <th>cut_Good</th>\n",
       "      <th>cut_Ideal</th>\n",
       "      <th>cut_Premium</th>\n",
       "      <th>...</th>\n",
       "      <th>color_J</th>\n",
       "      <th>clarity_I1</th>\n",
       "      <th>clarity_IF</th>\n",
       "      <th>clarity_SI1</th>\n",
       "      <th>clarity_SI2</th>\n",
       "      <th>clarity_VS1</th>\n",
       "      <th>clarity_VS2</th>\n",
       "      <th>clarity_VVS1</th>\n",
       "      <th>clarity_VVS2</th>\n",
       "      <th>price</th>\n",
       "    </tr>\n",
       "  </thead>\n",
       "  <tbody>\n",
       "    <tr>\n",
       "      <th>0</th>\n",
       "      <td>-1.198178</td>\n",
       "      <td>-0.174032</td>\n",
       "      <td>-1.099663</td>\n",
       "      <td>-1.587868</td>\n",
       "      <td>-1.536224</td>\n",
       "      <td>-1.571152</td>\n",
       "      <td>0</td>\n",
       "      <td>0</td>\n",
       "      <td>1</td>\n",
       "      <td>0</td>\n",
       "      <td>...</td>\n",
       "      <td>0</td>\n",
       "      <td>0</td>\n",
       "      <td>0</td>\n",
       "      <td>0</td>\n",
       "      <td>1</td>\n",
       "      <td>0</td>\n",
       "      <td>0</td>\n",
       "      <td>0</td>\n",
       "      <td>0</td>\n",
       "      <td>326</td>\n",
       "    </tr>\n",
       "    <tr>\n",
       "      <th>1</th>\n",
       "      <td>-1.240372</td>\n",
       "      <td>-1.360664</td>\n",
       "      <td>1.585442</td>\n",
       "      <td>-1.641356</td>\n",
       "      <td>-1.658805</td>\n",
       "      <td>-1.741201</td>\n",
       "      <td>0</td>\n",
       "      <td>0</td>\n",
       "      <td>0</td>\n",
       "      <td>1</td>\n",
       "      <td>...</td>\n",
       "      <td>0</td>\n",
       "      <td>0</td>\n",
       "      <td>0</td>\n",
       "      <td>1</td>\n",
       "      <td>0</td>\n",
       "      <td>0</td>\n",
       "      <td>0</td>\n",
       "      <td>0</td>\n",
       "      <td>0</td>\n",
       "      <td>326</td>\n",
       "    </tr>\n",
       "    <tr>\n",
       "      <th>2</th>\n",
       "      <td>-1.198178</td>\n",
       "      <td>-3.384918</td>\n",
       "      <td>3.375513</td>\n",
       "      <td>-1.498720</td>\n",
       "      <td>-1.457422</td>\n",
       "      <td>-1.741201</td>\n",
       "      <td>0</td>\n",
       "      <td>1</td>\n",
       "      <td>0</td>\n",
       "      <td>0</td>\n",
       "      <td>...</td>\n",
       "      <td>0</td>\n",
       "      <td>0</td>\n",
       "      <td>0</td>\n",
       "      <td>0</td>\n",
       "      <td>0</td>\n",
       "      <td>1</td>\n",
       "      <td>0</td>\n",
       "      <td>0</td>\n",
       "      <td>0</td>\n",
       "      <td>327</td>\n",
       "    </tr>\n",
       "    <tr>\n",
       "      <th>3</th>\n",
       "      <td>-1.071595</td>\n",
       "      <td>0.454185</td>\n",
       "      <td>0.242890</td>\n",
       "      <td>-1.364997</td>\n",
       "      <td>-1.317330</td>\n",
       "      <td>-1.287737</td>\n",
       "      <td>0</td>\n",
       "      <td>0</td>\n",
       "      <td>0</td>\n",
       "      <td>1</td>\n",
       "      <td>...</td>\n",
       "      <td>0</td>\n",
       "      <td>0</td>\n",
       "      <td>0</td>\n",
       "      <td>0</td>\n",
       "      <td>0</td>\n",
       "      <td>0</td>\n",
       "      <td>1</td>\n",
       "      <td>0</td>\n",
       "      <td>0</td>\n",
       "      <td>334</td>\n",
       "    </tr>\n",
       "    <tr>\n",
       "      <th>4</th>\n",
       "      <td>-1.029401</td>\n",
       "      <td>1.082402</td>\n",
       "      <td>0.242890</td>\n",
       "      <td>-1.240190</td>\n",
       "      <td>-1.212261</td>\n",
       "      <td>-1.117688</td>\n",
       "      <td>0</td>\n",
       "      <td>1</td>\n",
       "      <td>0</td>\n",
       "      <td>0</td>\n",
       "      <td>...</td>\n",
       "      <td>1</td>\n",
       "      <td>0</td>\n",
       "      <td>0</td>\n",
       "      <td>0</td>\n",
       "      <td>1</td>\n",
       "      <td>0</td>\n",
       "      <td>0</td>\n",
       "      <td>0</td>\n",
       "      <td>0</td>\n",
       "      <td>335</td>\n",
       "    </tr>\n",
       "  </tbody>\n",
       "</table>\n",
       "<p>5 rows × 27 columns</p>\n",
       "</div>"
      ],
      "text/plain": [
       "      carat     depth     table         x         y         z  cut_Fair  \\\n",
       "0 -1.198178 -0.174032 -1.099663 -1.587868 -1.536224 -1.571152         0   \n",
       "1 -1.240372 -1.360664  1.585442 -1.641356 -1.658805 -1.741201         0   \n",
       "2 -1.198178 -3.384918  3.375513 -1.498720 -1.457422 -1.741201         0   \n",
       "3 -1.071595  0.454185  0.242890 -1.364997 -1.317330 -1.287737         0   \n",
       "4 -1.029401  1.082402  0.242890 -1.240190 -1.212261 -1.117688         0   \n",
       "\n",
       "   cut_Good  cut_Ideal  cut_Premium  ...  color_J  clarity_I1  clarity_IF  \\\n",
       "0         0          1            0  ...        0           0           0   \n",
       "1         0          0            1  ...        0           0           0   \n",
       "2         1          0            0  ...        0           0           0   \n",
       "3         0          0            1  ...        0           0           0   \n",
       "4         1          0            0  ...        1           0           0   \n",
       "\n",
       "   clarity_SI1  clarity_SI2  clarity_VS1  clarity_VS2  clarity_VVS1  \\\n",
       "0            0            1            0            0             0   \n",
       "1            1            0            0            0             0   \n",
       "2            0            0            1            0             0   \n",
       "3            0            0            0            1             0   \n",
       "4            0            1            0            0             0   \n",
       "\n",
       "   clarity_VVS2  price  \n",
       "0             0    326  \n",
       "1             0    326  \n",
       "2             0    327  \n",
       "3             0    334  \n",
       "4             0    335  \n",
       "\n",
       "[5 rows x 27 columns]"
      ]
     },
     "execution_count": 62,
     "metadata": {},
     "output_type": "execute_result"
    }
   ],
   "source": [
    "df6.head()"
   ]
  },
  {
   "cell_type": "code",
   "execution_count": 63,
   "metadata": {},
   "outputs": [
    {
     "name": "stderr",
     "output_type": "stream",
     "text": [
      "C:\\Users\\CLIENTE\\anaconda3\\lib\\site-packages\\sklearn\\cross_decomposition\\_pls.py:94: RuntimeWarning: invalid value encountered in true_divide\n",
      "  y_weights = np.dot(Y.T, x_score) / np.dot(x_score.T, x_score)\n",
      "C:\\Users\\CLIENTE\\anaconda3\\lib\\site-packages\\sklearn\\cross_decomposition\\_pls.py:324: RuntimeWarning: invalid value encountered in true_divide\n",
      "  x_loadings = np.dot(x_scores, Xk) / np.dot(x_scores, x_scores)\n",
      "C:\\Users\\CLIENTE\\anaconda3\\lib\\site-packages\\sklearn\\cross_decomposition\\_pls.py:333: RuntimeWarning: invalid value encountered in true_divide\n",
      "  y_loadings = np.dot(x_scores, Yk) / np.dot(x_scores, x_scores)\n",
      "C:\\Users\\CLIENTE\\anaconda3\\lib\\site-packages\\sklearn\\model_selection\\_validation.py:776: UserWarning: Scoring failed. The score on this train-test partition for these parameters will be set to nan. Details: \n",
      "Traceback (most recent call last):\n",
      "  File \"C:\\Users\\CLIENTE\\anaconda3\\lib\\site-packages\\sklearn\\model_selection\\_validation.py\", line 767, in _score\n",
      "    scores = scorer(estimator, X_test, y_test)\n",
      "  File \"C:\\Users\\CLIENTE\\anaconda3\\lib\\site-packages\\sklearn\\metrics\\_scorer.py\", line 106, in __call__\n",
      "    score = scorer._score(cached_call, estimator, *args, **kwargs)\n",
      "  File \"C:\\Users\\CLIENTE\\anaconda3\\lib\\site-packages\\sklearn\\metrics\\_scorer.py\", line 267, in _score\n",
      "    return self._sign * self._score_func(y_true, y_pred, **self._kwargs)\n",
      "  File \"C:\\Users\\CLIENTE\\anaconda3\\lib\\site-packages\\sklearn\\metrics\\_regression.py\", line 442, in mean_squared_error\n",
      "    y_type, y_true, y_pred, multioutput = _check_reg_targets(\n",
      "  File \"C:\\Users\\CLIENTE\\anaconda3\\lib\\site-packages\\sklearn\\metrics\\_regression.py\", line 102, in _check_reg_targets\n",
      "    y_pred = check_array(y_pred, ensure_2d=False, dtype=dtype)\n",
      "  File \"C:\\Users\\CLIENTE\\anaconda3\\lib\\site-packages\\sklearn\\utils\\validation.py\", line 899, in check_array\n",
      "    _assert_all_finite(\n",
      "  File \"C:\\Users\\CLIENTE\\anaconda3\\lib\\site-packages\\sklearn\\utils\\validation.py\", line 146, in _assert_all_finite\n",
      "    raise ValueError(msg_err)\n",
      "ValueError: Input contains NaN.\n",
      "\n",
      "  warnings.warn(\n",
      "C:\\Users\\CLIENTE\\anaconda3\\lib\\site-packages\\sklearn\\cross_decomposition\\_pls.py:94: RuntimeWarning: invalid value encountered in true_divide\n",
      "  y_weights = np.dot(Y.T, x_score) / np.dot(x_score.T, x_score)\n",
      "C:\\Users\\CLIENTE\\anaconda3\\lib\\site-packages\\sklearn\\cross_decomposition\\_pls.py:324: RuntimeWarning: invalid value encountered in true_divide\n",
      "  x_loadings = np.dot(x_scores, Xk) / np.dot(x_scores, x_scores)\n",
      "C:\\Users\\CLIENTE\\anaconda3\\lib\\site-packages\\sklearn\\cross_decomposition\\_pls.py:333: RuntimeWarning: invalid value encountered in true_divide\n",
      "  y_loadings = np.dot(x_scores, Yk) / np.dot(x_scores, x_scores)\n",
      "C:\\Users\\CLIENTE\\anaconda3\\lib\\site-packages\\sklearn\\model_selection\\_validation.py:776: UserWarning: Scoring failed. The score on this train-test partition for these parameters will be set to nan. Details: \n",
      "Traceback (most recent call last):\n",
      "  File \"C:\\Users\\CLIENTE\\anaconda3\\lib\\site-packages\\sklearn\\model_selection\\_validation.py\", line 767, in _score\n",
      "    scores = scorer(estimator, X_test, y_test)\n",
      "  File \"C:\\Users\\CLIENTE\\anaconda3\\lib\\site-packages\\sklearn\\metrics\\_scorer.py\", line 106, in __call__\n",
      "    score = scorer._score(cached_call, estimator, *args, **kwargs)\n",
      "  File \"C:\\Users\\CLIENTE\\anaconda3\\lib\\site-packages\\sklearn\\metrics\\_scorer.py\", line 267, in _score\n",
      "    return self._sign * self._score_func(y_true, y_pred, **self._kwargs)\n",
      "  File \"C:\\Users\\CLIENTE\\anaconda3\\lib\\site-packages\\sklearn\\metrics\\_regression.py\", line 442, in mean_squared_error\n",
      "    y_type, y_true, y_pred, multioutput = _check_reg_targets(\n",
      "  File \"C:\\Users\\CLIENTE\\anaconda3\\lib\\site-packages\\sklearn\\metrics\\_regression.py\", line 102, in _check_reg_targets\n",
      "    y_pred = check_array(y_pred, ensure_2d=False, dtype=dtype)\n",
      "  File \"C:\\Users\\CLIENTE\\anaconda3\\lib\\site-packages\\sklearn\\utils\\validation.py\", line 899, in check_array\n",
      "    _assert_all_finite(\n",
      "  File \"C:\\Users\\CLIENTE\\anaconda3\\lib\\site-packages\\sklearn\\utils\\validation.py\", line 146, in _assert_all_finite\n",
      "    raise ValueError(msg_err)\n",
      "ValueError: Input contains NaN.\n",
      "\n",
      "  warnings.warn(\n",
      "C:\\Users\\CLIENTE\\anaconda3\\lib\\site-packages\\sklearn\\cross_decomposition\\_pls.py:94: RuntimeWarning: invalid value encountered in true_divide\n",
      "  y_weights = np.dot(Y.T, x_score) / np.dot(x_score.T, x_score)\n",
      "C:\\Users\\CLIENTE\\anaconda3\\lib\\site-packages\\sklearn\\cross_decomposition\\_pls.py:324: RuntimeWarning: invalid value encountered in true_divide\n",
      "  x_loadings = np.dot(x_scores, Xk) / np.dot(x_scores, x_scores)\n",
      "C:\\Users\\CLIENTE\\anaconda3\\lib\\site-packages\\sklearn\\cross_decomposition\\_pls.py:333: RuntimeWarning: invalid value encountered in true_divide\n",
      "  y_loadings = np.dot(x_scores, Yk) / np.dot(x_scores, x_scores)\n",
      "C:\\Users\\CLIENTE\\anaconda3\\lib\\site-packages\\sklearn\\model_selection\\_validation.py:776: UserWarning: Scoring failed. The score on this train-test partition for these parameters will be set to nan. Details: \n",
      "Traceback (most recent call last):\n",
      "  File \"C:\\Users\\CLIENTE\\anaconda3\\lib\\site-packages\\sklearn\\model_selection\\_validation.py\", line 767, in _score\n",
      "    scores = scorer(estimator, X_test, y_test)\n",
      "  File \"C:\\Users\\CLIENTE\\anaconda3\\lib\\site-packages\\sklearn\\metrics\\_scorer.py\", line 106, in __call__\n",
      "    score = scorer._score(cached_call, estimator, *args, **kwargs)\n",
      "  File \"C:\\Users\\CLIENTE\\anaconda3\\lib\\site-packages\\sklearn\\metrics\\_scorer.py\", line 267, in _score\n",
      "    return self._sign * self._score_func(y_true, y_pred, **self._kwargs)\n",
      "  File \"C:\\Users\\CLIENTE\\anaconda3\\lib\\site-packages\\sklearn\\metrics\\_regression.py\", line 442, in mean_squared_error\n",
      "    y_type, y_true, y_pred, multioutput = _check_reg_targets(\n",
      "  File \"C:\\Users\\CLIENTE\\anaconda3\\lib\\site-packages\\sklearn\\metrics\\_regression.py\", line 102, in _check_reg_targets\n",
      "    y_pred = check_array(y_pred, ensure_2d=False, dtype=dtype)\n",
      "  File \"C:\\Users\\CLIENTE\\anaconda3\\lib\\site-packages\\sklearn\\utils\\validation.py\", line 899, in check_array\n",
      "    _assert_all_finite(\n",
      "  File \"C:\\Users\\CLIENTE\\anaconda3\\lib\\site-packages\\sklearn\\utils\\validation.py\", line 146, in _assert_all_finite\n",
      "    raise ValueError(msg_err)\n",
      "ValueError: Input contains NaN.\n",
      "\n",
      "  warnings.warn(\n",
      "C:\\Users\\CLIENTE\\anaconda3\\lib\\site-packages\\sklearn\\cross_decomposition\\_pls.py:94: RuntimeWarning: invalid value encountered in true_divide\n",
      "  y_weights = np.dot(Y.T, x_score) / np.dot(x_score.T, x_score)\n",
      "C:\\Users\\CLIENTE\\anaconda3\\lib\\site-packages\\sklearn\\cross_decomposition\\_pls.py:324: RuntimeWarning: invalid value encountered in true_divide\n",
      "  x_loadings = np.dot(x_scores, Xk) / np.dot(x_scores, x_scores)\n",
      "C:\\Users\\CLIENTE\\anaconda3\\lib\\site-packages\\sklearn\\cross_decomposition\\_pls.py:333: RuntimeWarning: invalid value encountered in true_divide\n",
      "  y_loadings = np.dot(x_scores, Yk) / np.dot(x_scores, x_scores)\n",
      "C:\\Users\\CLIENTE\\anaconda3\\lib\\site-packages\\sklearn\\model_selection\\_validation.py:776: UserWarning: Scoring failed. The score on this train-test partition for these parameters will be set to nan. Details: \n",
      "Traceback (most recent call last):\n",
      "  File \"C:\\Users\\CLIENTE\\anaconda3\\lib\\site-packages\\sklearn\\model_selection\\_validation.py\", line 767, in _score\n",
      "    scores = scorer(estimator, X_test, y_test)\n",
      "  File \"C:\\Users\\CLIENTE\\anaconda3\\lib\\site-packages\\sklearn\\metrics\\_scorer.py\", line 106, in __call__\n",
      "    score = scorer._score(cached_call, estimator, *args, **kwargs)\n",
      "  File \"C:\\Users\\CLIENTE\\anaconda3\\lib\\site-packages\\sklearn\\metrics\\_scorer.py\", line 267, in _score\n",
      "    return self._sign * self._score_func(y_true, y_pred, **self._kwargs)\n",
      "  File \"C:\\Users\\CLIENTE\\anaconda3\\lib\\site-packages\\sklearn\\metrics\\_regression.py\", line 442, in mean_squared_error\n",
      "    y_type, y_true, y_pred, multioutput = _check_reg_targets(\n",
      "  File \"C:\\Users\\CLIENTE\\anaconda3\\lib\\site-packages\\sklearn\\metrics\\_regression.py\", line 102, in _check_reg_targets\n",
      "    y_pred = check_array(y_pred, ensure_2d=False, dtype=dtype)\n",
      "  File \"C:\\Users\\CLIENTE\\anaconda3\\lib\\site-packages\\sklearn\\utils\\validation.py\", line 899, in check_array\n",
      "    _assert_all_finite(\n",
      "  File \"C:\\Users\\CLIENTE\\anaconda3\\lib\\site-packages\\sklearn\\utils\\validation.py\", line 146, in _assert_all_finite\n",
      "    raise ValueError(msg_err)\n",
      "ValueError: Input contains NaN.\n",
      "\n",
      "  warnings.warn(\n",
      "C:\\Users\\CLIENTE\\anaconda3\\lib\\site-packages\\sklearn\\cross_decomposition\\_pls.py:94: RuntimeWarning: invalid value encountered in true_divide\n",
      "  y_weights = np.dot(Y.T, x_score) / np.dot(x_score.T, x_score)\n",
      "C:\\Users\\CLIENTE\\anaconda3\\lib\\site-packages\\sklearn\\cross_decomposition\\_pls.py:324: RuntimeWarning: invalid value encountered in true_divide\n",
      "  x_loadings = np.dot(x_scores, Xk) / np.dot(x_scores, x_scores)\n",
      "C:\\Users\\CLIENTE\\anaconda3\\lib\\site-packages\\sklearn\\cross_decomposition\\_pls.py:333: RuntimeWarning: invalid value encountered in true_divide\n",
      "  y_loadings = np.dot(x_scores, Yk) / np.dot(x_scores, x_scores)\n",
      "C:\\Users\\CLIENTE\\anaconda3\\lib\\site-packages\\sklearn\\model_selection\\_validation.py:776: UserWarning: Scoring failed. The score on this train-test partition for these parameters will be set to nan. Details: \n",
      "Traceback (most recent call last):\n",
      "  File \"C:\\Users\\CLIENTE\\anaconda3\\lib\\site-packages\\sklearn\\model_selection\\_validation.py\", line 767, in _score\n",
      "    scores = scorer(estimator, X_test, y_test)\n",
      "  File \"C:\\Users\\CLIENTE\\anaconda3\\lib\\site-packages\\sklearn\\metrics\\_scorer.py\", line 106, in __call__\n",
      "    score = scorer._score(cached_call, estimator, *args, **kwargs)\n",
      "  File \"C:\\Users\\CLIENTE\\anaconda3\\lib\\site-packages\\sklearn\\metrics\\_scorer.py\", line 267, in _score\n",
      "    return self._sign * self._score_func(y_true, y_pred, **self._kwargs)\n",
      "  File \"C:\\Users\\CLIENTE\\anaconda3\\lib\\site-packages\\sklearn\\metrics\\_regression.py\", line 442, in mean_squared_error\n",
      "    y_type, y_true, y_pred, multioutput = _check_reg_targets(\n",
      "  File \"C:\\Users\\CLIENTE\\anaconda3\\lib\\site-packages\\sklearn\\metrics\\_regression.py\", line 102, in _check_reg_targets\n",
      "    y_pred = check_array(y_pred, ensure_2d=False, dtype=dtype)\n",
      "  File \"C:\\Users\\CLIENTE\\anaconda3\\lib\\site-packages\\sklearn\\utils\\validation.py\", line 899, in check_array\n",
      "    _assert_all_finite(\n",
      "  File \"C:\\Users\\CLIENTE\\anaconda3\\lib\\site-packages\\sklearn\\utils\\validation.py\", line 146, in _assert_all_finite\n",
      "    raise ValueError(msg_err)\n",
      "ValueError: Input contains NaN.\n",
      "\n",
      "  warnings.warn(\n",
      "C:\\Users\\CLIENTE\\anaconda3\\lib\\site-packages\\sklearn\\cross_decomposition\\_pls.py:94: RuntimeWarning: invalid value encountered in true_divide\n",
      "  y_weights = np.dot(Y.T, x_score) / np.dot(x_score.T, x_score)\n",
      "C:\\Users\\CLIENTE\\anaconda3\\lib\\site-packages\\sklearn\\cross_decomposition\\_pls.py:324: RuntimeWarning: invalid value encountered in true_divide\n",
      "  x_loadings = np.dot(x_scores, Xk) / np.dot(x_scores, x_scores)\n",
      "C:\\Users\\CLIENTE\\anaconda3\\lib\\site-packages\\sklearn\\cross_decomposition\\_pls.py:333: RuntimeWarning: invalid value encountered in true_divide\n",
      "  y_loadings = np.dot(x_scores, Yk) / np.dot(x_scores, x_scores)\n",
      "C:\\Users\\CLIENTE\\anaconda3\\lib\\site-packages\\sklearn\\model_selection\\_validation.py:776: UserWarning: Scoring failed. The score on this train-test partition for these parameters will be set to nan. Details: \n",
      "Traceback (most recent call last):\n",
      "  File \"C:\\Users\\CLIENTE\\anaconda3\\lib\\site-packages\\sklearn\\model_selection\\_validation.py\", line 767, in _score\n",
      "    scores = scorer(estimator, X_test, y_test)\n",
      "  File \"C:\\Users\\CLIENTE\\anaconda3\\lib\\site-packages\\sklearn\\metrics\\_scorer.py\", line 106, in __call__\n",
      "    score = scorer._score(cached_call, estimator, *args, **kwargs)\n",
      "  File \"C:\\Users\\CLIENTE\\anaconda3\\lib\\site-packages\\sklearn\\metrics\\_scorer.py\", line 267, in _score\n",
      "    return self._sign * self._score_func(y_true, y_pred, **self._kwargs)\n",
      "  File \"C:\\Users\\CLIENTE\\anaconda3\\lib\\site-packages\\sklearn\\metrics\\_regression.py\", line 442, in mean_squared_error\n",
      "    y_type, y_true, y_pred, multioutput = _check_reg_targets(\n",
      "  File \"C:\\Users\\CLIENTE\\anaconda3\\lib\\site-packages\\sklearn\\metrics\\_regression.py\", line 102, in _check_reg_targets\n",
      "    y_pred = check_array(y_pred, ensure_2d=False, dtype=dtype)\n",
      "  File \"C:\\Users\\CLIENTE\\anaconda3\\lib\\site-packages\\sklearn\\utils\\validation.py\", line 899, in check_array\n",
      "    _assert_all_finite(\n",
      "  File \"C:\\Users\\CLIENTE\\anaconda3\\lib\\site-packages\\sklearn\\utils\\validation.py\", line 146, in _assert_all_finite\n",
      "    raise ValueError(msg_err)\n",
      "ValueError: Input contains NaN.\n",
      "\n",
      "  warnings.warn(\n",
      "C:\\Users\\CLIENTE\\anaconda3\\lib\\site-packages\\sklearn\\cross_decomposition\\_pls.py:94: RuntimeWarning: invalid value encountered in true_divide\n",
      "  y_weights = np.dot(Y.T, x_score) / np.dot(x_score.T, x_score)\n",
      "C:\\Users\\CLIENTE\\anaconda3\\lib\\site-packages\\sklearn\\cross_decomposition\\_pls.py:324: RuntimeWarning: invalid value encountered in true_divide\n",
      "  x_loadings = np.dot(x_scores, Xk) / np.dot(x_scores, x_scores)\n",
      "C:\\Users\\CLIENTE\\anaconda3\\lib\\site-packages\\sklearn\\cross_decomposition\\_pls.py:333: RuntimeWarning: invalid value encountered in true_divide\n",
      "  y_loadings = np.dot(x_scores, Yk) / np.dot(x_scores, x_scores)\n",
      "C:\\Users\\CLIENTE\\anaconda3\\lib\\site-packages\\sklearn\\model_selection\\_validation.py:776: UserWarning: Scoring failed. The score on this train-test partition for these parameters will be set to nan. Details: \n",
      "Traceback (most recent call last):\n",
      "  File \"C:\\Users\\CLIENTE\\anaconda3\\lib\\site-packages\\sklearn\\model_selection\\_validation.py\", line 767, in _score\n",
      "    scores = scorer(estimator, X_test, y_test)\n",
      "  File \"C:\\Users\\CLIENTE\\anaconda3\\lib\\site-packages\\sklearn\\metrics\\_scorer.py\", line 106, in __call__\n",
      "    score = scorer._score(cached_call, estimator, *args, **kwargs)\n",
      "  File \"C:\\Users\\CLIENTE\\anaconda3\\lib\\site-packages\\sklearn\\metrics\\_scorer.py\", line 267, in _score\n",
      "    return self._sign * self._score_func(y_true, y_pred, **self._kwargs)\n",
      "  File \"C:\\Users\\CLIENTE\\anaconda3\\lib\\site-packages\\sklearn\\metrics\\_regression.py\", line 442, in mean_squared_error\n",
      "    y_type, y_true, y_pred, multioutput = _check_reg_targets(\n",
      "  File \"C:\\Users\\CLIENTE\\anaconda3\\lib\\site-packages\\sklearn\\metrics\\_regression.py\", line 102, in _check_reg_targets\n",
      "    y_pred = check_array(y_pred, ensure_2d=False, dtype=dtype)\n",
      "  File \"C:\\Users\\CLIENTE\\anaconda3\\lib\\site-packages\\sklearn\\utils\\validation.py\", line 899, in check_array\n",
      "    _assert_all_finite(\n",
      "  File \"C:\\Users\\CLIENTE\\anaconda3\\lib\\site-packages\\sklearn\\utils\\validation.py\", line 146, in _assert_all_finite\n",
      "    raise ValueError(msg_err)\n",
      "ValueError: Input contains NaN.\n",
      "\n",
      "  warnings.warn(\n",
      "C:\\Users\\CLIENTE\\anaconda3\\lib\\site-packages\\sklearn\\cross_decomposition\\_pls.py:94: RuntimeWarning: invalid value encountered in true_divide\n",
      "  y_weights = np.dot(Y.T, x_score) / np.dot(x_score.T, x_score)\n",
      "C:\\Users\\CLIENTE\\anaconda3\\lib\\site-packages\\sklearn\\cross_decomposition\\_pls.py:324: RuntimeWarning: invalid value encountered in true_divide\n",
      "  x_loadings = np.dot(x_scores, Xk) / np.dot(x_scores, x_scores)\n",
      "C:\\Users\\CLIENTE\\anaconda3\\lib\\site-packages\\sklearn\\cross_decomposition\\_pls.py:333: RuntimeWarning: invalid value encountered in true_divide\n",
      "  y_loadings = np.dot(x_scores, Yk) / np.dot(x_scores, x_scores)\n",
      "C:\\Users\\CLIENTE\\anaconda3\\lib\\site-packages\\sklearn\\model_selection\\_validation.py:776: UserWarning: Scoring failed. The score on this train-test partition for these parameters will be set to nan. Details: \n",
      "Traceback (most recent call last):\n",
      "  File \"C:\\Users\\CLIENTE\\anaconda3\\lib\\site-packages\\sklearn\\model_selection\\_validation.py\", line 767, in _score\n",
      "    scores = scorer(estimator, X_test, y_test)\n",
      "  File \"C:\\Users\\CLIENTE\\anaconda3\\lib\\site-packages\\sklearn\\metrics\\_scorer.py\", line 106, in __call__\n",
      "    score = scorer._score(cached_call, estimator, *args, **kwargs)\n",
      "  File \"C:\\Users\\CLIENTE\\anaconda3\\lib\\site-packages\\sklearn\\metrics\\_scorer.py\", line 267, in _score\n",
      "    return self._sign * self._score_func(y_true, y_pred, **self._kwargs)\n",
      "  File \"C:\\Users\\CLIENTE\\anaconda3\\lib\\site-packages\\sklearn\\metrics\\_regression.py\", line 442, in mean_squared_error\n",
      "    y_type, y_true, y_pred, multioutput = _check_reg_targets(\n",
      "  File \"C:\\Users\\CLIENTE\\anaconda3\\lib\\site-packages\\sklearn\\metrics\\_regression.py\", line 102, in _check_reg_targets\n",
      "    y_pred = check_array(y_pred, ensure_2d=False, dtype=dtype)\n",
      "  File \"C:\\Users\\CLIENTE\\anaconda3\\lib\\site-packages\\sklearn\\utils\\validation.py\", line 899, in check_array\n",
      "    _assert_all_finite(\n",
      "  File \"C:\\Users\\CLIENTE\\anaconda3\\lib\\site-packages\\sklearn\\utils\\validation.py\", line 146, in _assert_all_finite\n",
      "    raise ValueError(msg_err)\n",
      "ValueError: Input contains NaN.\n",
      "\n",
      "  warnings.warn(\n",
      "C:\\Users\\CLIENTE\\anaconda3\\lib\\site-packages\\sklearn\\cross_decomposition\\_pls.py:94: RuntimeWarning: invalid value encountered in true_divide\n",
      "  y_weights = np.dot(Y.T, x_score) / np.dot(x_score.T, x_score)\n",
      "C:\\Users\\CLIENTE\\anaconda3\\lib\\site-packages\\sklearn\\cross_decomposition\\_pls.py:324: RuntimeWarning: invalid value encountered in true_divide\n",
      "  x_loadings = np.dot(x_scores, Xk) / np.dot(x_scores, x_scores)\n",
      "C:\\Users\\CLIENTE\\anaconda3\\lib\\site-packages\\sklearn\\cross_decomposition\\_pls.py:333: RuntimeWarning: invalid value encountered in true_divide\n",
      "  y_loadings = np.dot(x_scores, Yk) / np.dot(x_scores, x_scores)\n",
      "C:\\Users\\CLIENTE\\anaconda3\\lib\\site-packages\\sklearn\\model_selection\\_validation.py:776: UserWarning: Scoring failed. The score on this train-test partition for these parameters will be set to nan. Details: \n",
      "Traceback (most recent call last):\n",
      "  File \"C:\\Users\\CLIENTE\\anaconda3\\lib\\site-packages\\sklearn\\model_selection\\_validation.py\", line 767, in _score\n",
      "    scores = scorer(estimator, X_test, y_test)\n",
      "  File \"C:\\Users\\CLIENTE\\anaconda3\\lib\\site-packages\\sklearn\\metrics\\_scorer.py\", line 106, in __call__\n",
      "    score = scorer._score(cached_call, estimator, *args, **kwargs)\n",
      "  File \"C:\\Users\\CLIENTE\\anaconda3\\lib\\site-packages\\sklearn\\metrics\\_scorer.py\", line 267, in _score\n",
      "    return self._sign * self._score_func(y_true, y_pred, **self._kwargs)\n",
      "  File \"C:\\Users\\CLIENTE\\anaconda3\\lib\\site-packages\\sklearn\\metrics\\_regression.py\", line 442, in mean_squared_error\n",
      "    y_type, y_true, y_pred, multioutput = _check_reg_targets(\n",
      "  File \"C:\\Users\\CLIENTE\\anaconda3\\lib\\site-packages\\sklearn\\metrics\\_regression.py\", line 102, in _check_reg_targets\n",
      "    y_pred = check_array(y_pred, ensure_2d=False, dtype=dtype)\n",
      "  File \"C:\\Users\\CLIENTE\\anaconda3\\lib\\site-packages\\sklearn\\utils\\validation.py\", line 899, in check_array\n",
      "    _assert_all_finite(\n",
      "  File \"C:\\Users\\CLIENTE\\anaconda3\\lib\\site-packages\\sklearn\\utils\\validation.py\", line 146, in _assert_all_finite\n",
      "    raise ValueError(msg_err)\n",
      "ValueError: Input contains NaN.\n",
      "\n",
      "  warnings.warn(\n",
      "C:\\Users\\CLIENTE\\anaconda3\\lib\\site-packages\\sklearn\\cross_decomposition\\_pls.py:94: RuntimeWarning: invalid value encountered in true_divide\n",
      "  y_weights = np.dot(Y.T, x_score) / np.dot(x_score.T, x_score)\n",
      "C:\\Users\\CLIENTE\\anaconda3\\lib\\site-packages\\sklearn\\cross_decomposition\\_pls.py:324: RuntimeWarning: invalid value encountered in true_divide\n",
      "  x_loadings = np.dot(x_scores, Xk) / np.dot(x_scores, x_scores)\n",
      "C:\\Users\\CLIENTE\\anaconda3\\lib\\site-packages\\sklearn\\cross_decomposition\\_pls.py:333: RuntimeWarning: invalid value encountered in true_divide\n",
      "  y_loadings = np.dot(x_scores, Yk) / np.dot(x_scores, x_scores)\n",
      "C:\\Users\\CLIENTE\\anaconda3\\lib\\site-packages\\sklearn\\model_selection\\_validation.py:776: UserWarning: Scoring failed. The score on this train-test partition for these parameters will be set to nan. Details: \n",
      "Traceback (most recent call last):\n",
      "  File \"C:\\Users\\CLIENTE\\anaconda3\\lib\\site-packages\\sklearn\\model_selection\\_validation.py\", line 767, in _score\n",
      "    scores = scorer(estimator, X_test, y_test)\n",
      "  File \"C:\\Users\\CLIENTE\\anaconda3\\lib\\site-packages\\sklearn\\metrics\\_scorer.py\", line 106, in __call__\n",
      "    score = scorer._score(cached_call, estimator, *args, **kwargs)\n",
      "  File \"C:\\Users\\CLIENTE\\anaconda3\\lib\\site-packages\\sklearn\\metrics\\_scorer.py\", line 267, in _score\n",
      "    return self._sign * self._score_func(y_true, y_pred, **self._kwargs)\n",
      "  File \"C:\\Users\\CLIENTE\\anaconda3\\lib\\site-packages\\sklearn\\metrics\\_regression.py\", line 442, in mean_squared_error\n",
      "    y_type, y_true, y_pred, multioutput = _check_reg_targets(\n",
      "  File \"C:\\Users\\CLIENTE\\anaconda3\\lib\\site-packages\\sklearn\\metrics\\_regression.py\", line 102, in _check_reg_targets\n",
      "    y_pred = check_array(y_pred, ensure_2d=False, dtype=dtype)\n",
      "  File \"C:\\Users\\CLIENTE\\anaconda3\\lib\\site-packages\\sklearn\\utils\\validation.py\", line 899, in check_array\n",
      "    _assert_all_finite(\n",
      "  File \"C:\\Users\\CLIENTE\\anaconda3\\lib\\site-packages\\sklearn\\utils\\validation.py\", line 146, in _assert_all_finite\n",
      "    raise ValueError(msg_err)\n",
      "ValueError: Input contains NaN.\n",
      "\n",
      "  warnings.warn(\n",
      "C:\\Users\\CLIENTE\\anaconda3\\lib\\site-packages\\sklearn\\cross_decomposition\\_pls.py:94: RuntimeWarning: invalid value encountered in true_divide\n",
      "  y_weights = np.dot(Y.T, x_score) / np.dot(x_score.T, x_score)\n",
      "C:\\Users\\CLIENTE\\anaconda3\\lib\\site-packages\\sklearn\\cross_decomposition\\_pls.py:324: RuntimeWarning: invalid value encountered in true_divide\n",
      "  x_loadings = np.dot(x_scores, Xk) / np.dot(x_scores, x_scores)\n",
      "C:\\Users\\CLIENTE\\anaconda3\\lib\\site-packages\\sklearn\\cross_decomposition\\_pls.py:333: RuntimeWarning: invalid value encountered in true_divide\n",
      "  y_loadings = np.dot(x_scores, Yk) / np.dot(x_scores, x_scores)\n",
      "C:\\Users\\CLIENTE\\anaconda3\\lib\\site-packages\\sklearn\\model_selection\\_validation.py:776: UserWarning: Scoring failed. The score on this train-test partition for these parameters will be set to nan. Details: \n",
      "Traceback (most recent call last):\n",
      "  File \"C:\\Users\\CLIENTE\\anaconda3\\lib\\site-packages\\sklearn\\model_selection\\_validation.py\", line 767, in _score\n",
      "    scores = scorer(estimator, X_test, y_test)\n",
      "  File \"C:\\Users\\CLIENTE\\anaconda3\\lib\\site-packages\\sklearn\\metrics\\_scorer.py\", line 106, in __call__\n",
      "    score = scorer._score(cached_call, estimator, *args, **kwargs)\n",
      "  File \"C:\\Users\\CLIENTE\\anaconda3\\lib\\site-packages\\sklearn\\metrics\\_scorer.py\", line 267, in _score\n",
      "    return self._sign * self._score_func(y_true, y_pred, **self._kwargs)\n",
      "  File \"C:\\Users\\CLIENTE\\anaconda3\\lib\\site-packages\\sklearn\\metrics\\_regression.py\", line 442, in mean_squared_error\n",
      "    y_type, y_true, y_pred, multioutput = _check_reg_targets(\n",
      "  File \"C:\\Users\\CLIENTE\\anaconda3\\lib\\site-packages\\sklearn\\metrics\\_regression.py\", line 102, in _check_reg_targets\n",
      "    y_pred = check_array(y_pred, ensure_2d=False, dtype=dtype)\n",
      "  File \"C:\\Users\\CLIENTE\\anaconda3\\lib\\site-packages\\sklearn\\utils\\validation.py\", line 899, in check_array\n",
      "    _assert_all_finite(\n",
      "  File \"C:\\Users\\CLIENTE\\anaconda3\\lib\\site-packages\\sklearn\\utils\\validation.py\", line 146, in _assert_all_finite\n",
      "    raise ValueError(msg_err)\n",
      "ValueError: Input contains NaN.\n",
      "\n",
      "  warnings.warn(\n",
      "C:\\Users\\CLIENTE\\anaconda3\\lib\\site-packages\\sklearn\\cross_decomposition\\_pls.py:94: RuntimeWarning: invalid value encountered in true_divide\n",
      "  y_weights = np.dot(Y.T, x_score) / np.dot(x_score.T, x_score)\n",
      "C:\\Users\\CLIENTE\\anaconda3\\lib\\site-packages\\sklearn\\cross_decomposition\\_pls.py:324: RuntimeWarning: invalid value encountered in true_divide\n",
      "  x_loadings = np.dot(x_scores, Xk) / np.dot(x_scores, x_scores)\n",
      "C:\\Users\\CLIENTE\\anaconda3\\lib\\site-packages\\sklearn\\cross_decomposition\\_pls.py:333: RuntimeWarning: invalid value encountered in true_divide\n",
      "  y_loadings = np.dot(x_scores, Yk) / np.dot(x_scores, x_scores)\n",
      "C:\\Users\\CLIENTE\\anaconda3\\lib\\site-packages\\sklearn\\model_selection\\_validation.py:776: UserWarning: Scoring failed. The score on this train-test partition for these parameters will be set to nan. Details: \n",
      "Traceback (most recent call last):\n",
      "  File \"C:\\Users\\CLIENTE\\anaconda3\\lib\\site-packages\\sklearn\\model_selection\\_validation.py\", line 767, in _score\n",
      "    scores = scorer(estimator, X_test, y_test)\n",
      "  File \"C:\\Users\\CLIENTE\\anaconda3\\lib\\site-packages\\sklearn\\metrics\\_scorer.py\", line 106, in __call__\n",
      "    score = scorer._score(cached_call, estimator, *args, **kwargs)\n",
      "  File \"C:\\Users\\CLIENTE\\anaconda3\\lib\\site-packages\\sklearn\\metrics\\_scorer.py\", line 267, in _score\n",
      "    return self._sign * self._score_func(y_true, y_pred, **self._kwargs)\n",
      "  File \"C:\\Users\\CLIENTE\\anaconda3\\lib\\site-packages\\sklearn\\metrics\\_regression.py\", line 442, in mean_squared_error\n",
      "    y_type, y_true, y_pred, multioutput = _check_reg_targets(\n",
      "  File \"C:\\Users\\CLIENTE\\anaconda3\\lib\\site-packages\\sklearn\\metrics\\_regression.py\", line 102, in _check_reg_targets\n",
      "    y_pred = check_array(y_pred, ensure_2d=False, dtype=dtype)\n",
      "  File \"C:\\Users\\CLIENTE\\anaconda3\\lib\\site-packages\\sklearn\\utils\\validation.py\", line 899, in check_array\n",
      "    _assert_all_finite(\n",
      "  File \"C:\\Users\\CLIENTE\\anaconda3\\lib\\site-packages\\sklearn\\utils\\validation.py\", line 146, in _assert_all_finite\n",
      "    raise ValueError(msg_err)\n",
      "ValueError: Input contains NaN.\n",
      "\n",
      "  warnings.warn(\n",
      "C:\\Users\\CLIENTE\\anaconda3\\lib\\site-packages\\sklearn\\cross_decomposition\\_pls.py:94: RuntimeWarning: invalid value encountered in true_divide\n",
      "  y_weights = np.dot(Y.T, x_score) / np.dot(x_score.T, x_score)\n",
      "C:\\Users\\CLIENTE\\anaconda3\\lib\\site-packages\\sklearn\\cross_decomposition\\_pls.py:324: RuntimeWarning: invalid value encountered in true_divide\n",
      "  x_loadings = np.dot(x_scores, Xk) / np.dot(x_scores, x_scores)\n",
      "C:\\Users\\CLIENTE\\anaconda3\\lib\\site-packages\\sklearn\\cross_decomposition\\_pls.py:333: RuntimeWarning: invalid value encountered in true_divide\n",
      "  y_loadings = np.dot(x_scores, Yk) / np.dot(x_scores, x_scores)\n",
      "C:\\Users\\CLIENTE\\anaconda3\\lib\\site-packages\\sklearn\\model_selection\\_validation.py:776: UserWarning: Scoring failed. The score on this train-test partition for these parameters will be set to nan. Details: \n",
      "Traceback (most recent call last):\n",
      "  File \"C:\\Users\\CLIENTE\\anaconda3\\lib\\site-packages\\sklearn\\model_selection\\_validation.py\", line 767, in _score\n",
      "    scores = scorer(estimator, X_test, y_test)\n",
      "  File \"C:\\Users\\CLIENTE\\anaconda3\\lib\\site-packages\\sklearn\\metrics\\_scorer.py\", line 106, in __call__\n",
      "    score = scorer._score(cached_call, estimator, *args, **kwargs)\n",
      "  File \"C:\\Users\\CLIENTE\\anaconda3\\lib\\site-packages\\sklearn\\metrics\\_scorer.py\", line 267, in _score\n",
      "    return self._sign * self._score_func(y_true, y_pred, **self._kwargs)\n",
      "  File \"C:\\Users\\CLIENTE\\anaconda3\\lib\\site-packages\\sklearn\\metrics\\_regression.py\", line 442, in mean_squared_error\n",
      "    y_type, y_true, y_pred, multioutput = _check_reg_targets(\n",
      "  File \"C:\\Users\\CLIENTE\\anaconda3\\lib\\site-packages\\sklearn\\metrics\\_regression.py\", line 102, in _check_reg_targets\n",
      "    y_pred = check_array(y_pred, ensure_2d=False, dtype=dtype)\n",
      "  File \"C:\\Users\\CLIENTE\\anaconda3\\lib\\site-packages\\sklearn\\utils\\validation.py\", line 899, in check_array\n",
      "    _assert_all_finite(\n",
      "  File \"C:\\Users\\CLIENTE\\anaconda3\\lib\\site-packages\\sklearn\\utils\\validation.py\", line 146, in _assert_all_finite\n",
      "    raise ValueError(msg_err)\n",
      "ValueError: Input contains NaN.\n",
      "\n",
      "  warnings.warn(\n",
      "C:\\Users\\CLIENTE\\anaconda3\\lib\\site-packages\\sklearn\\cross_decomposition\\_pls.py:94: RuntimeWarning: invalid value encountered in true_divide\n",
      "  y_weights = np.dot(Y.T, x_score) / np.dot(x_score.T, x_score)\n",
      "C:\\Users\\CLIENTE\\anaconda3\\lib\\site-packages\\sklearn\\cross_decomposition\\_pls.py:324: RuntimeWarning: invalid value encountered in true_divide\n",
      "  x_loadings = np.dot(x_scores, Xk) / np.dot(x_scores, x_scores)\n",
      "C:\\Users\\CLIENTE\\anaconda3\\lib\\site-packages\\sklearn\\cross_decomposition\\_pls.py:333: RuntimeWarning: invalid value encountered in true_divide\n",
      "  y_loadings = np.dot(x_scores, Yk) / np.dot(x_scores, x_scores)\n",
      "C:\\Users\\CLIENTE\\anaconda3\\lib\\site-packages\\sklearn\\model_selection\\_validation.py:776: UserWarning: Scoring failed. The score on this train-test partition for these parameters will be set to nan. Details: \n",
      "Traceback (most recent call last):\n",
      "  File \"C:\\Users\\CLIENTE\\anaconda3\\lib\\site-packages\\sklearn\\model_selection\\_validation.py\", line 767, in _score\n",
      "    scores = scorer(estimator, X_test, y_test)\n",
      "  File \"C:\\Users\\CLIENTE\\anaconda3\\lib\\site-packages\\sklearn\\metrics\\_scorer.py\", line 106, in __call__\n",
      "    score = scorer._score(cached_call, estimator, *args, **kwargs)\n",
      "  File \"C:\\Users\\CLIENTE\\anaconda3\\lib\\site-packages\\sklearn\\metrics\\_scorer.py\", line 267, in _score\n",
      "    return self._sign * self._score_func(y_true, y_pred, **self._kwargs)\n",
      "  File \"C:\\Users\\CLIENTE\\anaconda3\\lib\\site-packages\\sklearn\\metrics\\_regression.py\", line 442, in mean_squared_error\n",
      "    y_type, y_true, y_pred, multioutput = _check_reg_targets(\n",
      "  File \"C:\\Users\\CLIENTE\\anaconda3\\lib\\site-packages\\sklearn\\metrics\\_regression.py\", line 102, in _check_reg_targets\n",
      "    y_pred = check_array(y_pred, ensure_2d=False, dtype=dtype)\n",
      "  File \"C:\\Users\\CLIENTE\\anaconda3\\lib\\site-packages\\sklearn\\utils\\validation.py\", line 899, in check_array\n",
      "    _assert_all_finite(\n",
      "  File \"C:\\Users\\CLIENTE\\anaconda3\\lib\\site-packages\\sklearn\\utils\\validation.py\", line 146, in _assert_all_finite\n",
      "    raise ValueError(msg_err)\n",
      "ValueError: Input contains NaN.\n",
      "\n",
      "  warnings.warn(\n",
      "C:\\Users\\CLIENTE\\anaconda3\\lib\\site-packages\\sklearn\\cross_decomposition\\_pls.py:94: RuntimeWarning: invalid value encountered in true_divide\n",
      "  y_weights = np.dot(Y.T, x_score) / np.dot(x_score.T, x_score)\n",
      "C:\\Users\\CLIENTE\\anaconda3\\lib\\site-packages\\sklearn\\cross_decomposition\\_pls.py:324: RuntimeWarning: invalid value encountered in true_divide\n",
      "  x_loadings = np.dot(x_scores, Xk) / np.dot(x_scores, x_scores)\n",
      "C:\\Users\\CLIENTE\\anaconda3\\lib\\site-packages\\sklearn\\cross_decomposition\\_pls.py:333: RuntimeWarning: invalid value encountered in true_divide\n",
      "  y_loadings = np.dot(x_scores, Yk) / np.dot(x_scores, x_scores)\n",
      "C:\\Users\\CLIENTE\\anaconda3\\lib\\site-packages\\sklearn\\model_selection\\_validation.py:776: UserWarning: Scoring failed. The score on this train-test partition for these parameters will be set to nan. Details: \n",
      "Traceback (most recent call last):\n",
      "  File \"C:\\Users\\CLIENTE\\anaconda3\\lib\\site-packages\\sklearn\\model_selection\\_validation.py\", line 767, in _score\n",
      "    scores = scorer(estimator, X_test, y_test)\n",
      "  File \"C:\\Users\\CLIENTE\\anaconda3\\lib\\site-packages\\sklearn\\metrics\\_scorer.py\", line 106, in __call__\n",
      "    score = scorer._score(cached_call, estimator, *args, **kwargs)\n",
      "  File \"C:\\Users\\CLIENTE\\anaconda3\\lib\\site-packages\\sklearn\\metrics\\_scorer.py\", line 267, in _score\n",
      "    return self._sign * self._score_func(y_true, y_pred, **self._kwargs)\n",
      "  File \"C:\\Users\\CLIENTE\\anaconda3\\lib\\site-packages\\sklearn\\metrics\\_regression.py\", line 442, in mean_squared_error\n",
      "    y_type, y_true, y_pred, multioutput = _check_reg_targets(\n",
      "  File \"C:\\Users\\CLIENTE\\anaconda3\\lib\\site-packages\\sklearn\\metrics\\_regression.py\", line 102, in _check_reg_targets\n",
      "    y_pred = check_array(y_pred, ensure_2d=False, dtype=dtype)\n",
      "  File \"C:\\Users\\CLIENTE\\anaconda3\\lib\\site-packages\\sklearn\\utils\\validation.py\", line 899, in check_array\n",
      "    _assert_all_finite(\n",
      "  File \"C:\\Users\\CLIENTE\\anaconda3\\lib\\site-packages\\sklearn\\utils\\validation.py\", line 146, in _assert_all_finite\n",
      "    raise ValueError(msg_err)\n",
      "ValueError: Input contains NaN.\n",
      "\n",
      "  warnings.warn(\n",
      "C:\\Users\\CLIENTE\\anaconda3\\lib\\site-packages\\sklearn\\cross_decomposition\\_pls.py:94: RuntimeWarning: invalid value encountered in true_divide\n",
      "  y_weights = np.dot(Y.T, x_score) / np.dot(x_score.T, x_score)\n",
      "C:\\Users\\CLIENTE\\anaconda3\\lib\\site-packages\\sklearn\\cross_decomposition\\_pls.py:324: RuntimeWarning: invalid value encountered in true_divide\n",
      "  x_loadings = np.dot(x_scores, Xk) / np.dot(x_scores, x_scores)\n",
      "C:\\Users\\CLIENTE\\anaconda3\\lib\\site-packages\\sklearn\\cross_decomposition\\_pls.py:333: RuntimeWarning: invalid value encountered in true_divide\n",
      "  y_loadings = np.dot(x_scores, Yk) / np.dot(x_scores, x_scores)\n",
      "C:\\Users\\CLIENTE\\anaconda3\\lib\\site-packages\\sklearn\\model_selection\\_validation.py:776: UserWarning: Scoring failed. The score on this train-test partition for these parameters will be set to nan. Details: \n",
      "Traceback (most recent call last):\n",
      "  File \"C:\\Users\\CLIENTE\\anaconda3\\lib\\site-packages\\sklearn\\model_selection\\_validation.py\", line 767, in _score\n",
      "    scores = scorer(estimator, X_test, y_test)\n",
      "  File \"C:\\Users\\CLIENTE\\anaconda3\\lib\\site-packages\\sklearn\\metrics\\_scorer.py\", line 106, in __call__\n",
      "    score = scorer._score(cached_call, estimator, *args, **kwargs)\n",
      "  File \"C:\\Users\\CLIENTE\\anaconda3\\lib\\site-packages\\sklearn\\metrics\\_scorer.py\", line 267, in _score\n",
      "    return self._sign * self._score_func(y_true, y_pred, **self._kwargs)\n",
      "  File \"C:\\Users\\CLIENTE\\anaconda3\\lib\\site-packages\\sklearn\\metrics\\_regression.py\", line 442, in mean_squared_error\n",
      "    y_type, y_true, y_pred, multioutput = _check_reg_targets(\n",
      "  File \"C:\\Users\\CLIENTE\\anaconda3\\lib\\site-packages\\sklearn\\metrics\\_regression.py\", line 102, in _check_reg_targets\n",
      "    y_pred = check_array(y_pred, ensure_2d=False, dtype=dtype)\n",
      "  File \"C:\\Users\\CLIENTE\\anaconda3\\lib\\site-packages\\sklearn\\utils\\validation.py\", line 899, in check_array\n",
      "    _assert_all_finite(\n",
      "  File \"C:\\Users\\CLIENTE\\anaconda3\\lib\\site-packages\\sklearn\\utils\\validation.py\", line 146, in _assert_all_finite\n",
      "    raise ValueError(msg_err)\n",
      "ValueError: Input contains NaN.\n",
      "\n",
      "  warnings.warn(\n"
     ]
    },
    {
     "name": "stderr",
     "output_type": "stream",
     "text": [
      "C:\\Users\\CLIENTE\\anaconda3\\lib\\site-packages\\sklearn\\cross_decomposition\\_pls.py:94: RuntimeWarning: invalid value encountered in true_divide\n",
      "  y_weights = np.dot(Y.T, x_score) / np.dot(x_score.T, x_score)\n",
      "C:\\Users\\CLIENTE\\anaconda3\\lib\\site-packages\\sklearn\\cross_decomposition\\_pls.py:324: RuntimeWarning: invalid value encountered in true_divide\n",
      "  x_loadings = np.dot(x_scores, Xk) / np.dot(x_scores, x_scores)\n",
      "C:\\Users\\CLIENTE\\anaconda3\\lib\\site-packages\\sklearn\\cross_decomposition\\_pls.py:333: RuntimeWarning: invalid value encountered in true_divide\n",
      "  y_loadings = np.dot(x_scores, Yk) / np.dot(x_scores, x_scores)\n",
      "C:\\Users\\CLIENTE\\anaconda3\\lib\\site-packages\\sklearn\\model_selection\\_validation.py:776: UserWarning: Scoring failed. The score on this train-test partition for these parameters will be set to nan. Details: \n",
      "Traceback (most recent call last):\n",
      "  File \"C:\\Users\\CLIENTE\\anaconda3\\lib\\site-packages\\sklearn\\model_selection\\_validation.py\", line 767, in _score\n",
      "    scores = scorer(estimator, X_test, y_test)\n",
      "  File \"C:\\Users\\CLIENTE\\anaconda3\\lib\\site-packages\\sklearn\\metrics\\_scorer.py\", line 106, in __call__\n",
      "    score = scorer._score(cached_call, estimator, *args, **kwargs)\n",
      "  File \"C:\\Users\\CLIENTE\\anaconda3\\lib\\site-packages\\sklearn\\metrics\\_scorer.py\", line 267, in _score\n",
      "    return self._sign * self._score_func(y_true, y_pred, **self._kwargs)\n",
      "  File \"C:\\Users\\CLIENTE\\anaconda3\\lib\\site-packages\\sklearn\\metrics\\_regression.py\", line 442, in mean_squared_error\n",
      "    y_type, y_true, y_pred, multioutput = _check_reg_targets(\n",
      "  File \"C:\\Users\\CLIENTE\\anaconda3\\lib\\site-packages\\sklearn\\metrics\\_regression.py\", line 102, in _check_reg_targets\n",
      "    y_pred = check_array(y_pred, ensure_2d=False, dtype=dtype)\n",
      "  File \"C:\\Users\\CLIENTE\\anaconda3\\lib\\site-packages\\sklearn\\utils\\validation.py\", line 899, in check_array\n",
      "    _assert_all_finite(\n",
      "  File \"C:\\Users\\CLIENTE\\anaconda3\\lib\\site-packages\\sklearn\\utils\\validation.py\", line 146, in _assert_all_finite\n",
      "    raise ValueError(msg_err)\n",
      "ValueError: Input contains NaN.\n",
      "\n",
      "  warnings.warn(\n",
      "C:\\Users\\CLIENTE\\anaconda3\\lib\\site-packages\\sklearn\\cross_decomposition\\_pls.py:94: RuntimeWarning: invalid value encountered in true_divide\n",
      "  y_weights = np.dot(Y.T, x_score) / np.dot(x_score.T, x_score)\n",
      "C:\\Users\\CLIENTE\\anaconda3\\lib\\site-packages\\sklearn\\cross_decomposition\\_pls.py:324: RuntimeWarning: invalid value encountered in true_divide\n",
      "  x_loadings = np.dot(x_scores, Xk) / np.dot(x_scores, x_scores)\n",
      "C:\\Users\\CLIENTE\\anaconda3\\lib\\site-packages\\sklearn\\cross_decomposition\\_pls.py:333: RuntimeWarning: invalid value encountered in true_divide\n",
      "  y_loadings = np.dot(x_scores, Yk) / np.dot(x_scores, x_scores)\n",
      "C:\\Users\\CLIENTE\\anaconda3\\lib\\site-packages\\sklearn\\model_selection\\_validation.py:776: UserWarning: Scoring failed. The score on this train-test partition for these parameters will be set to nan. Details: \n",
      "Traceback (most recent call last):\n",
      "  File \"C:\\Users\\CLIENTE\\anaconda3\\lib\\site-packages\\sklearn\\model_selection\\_validation.py\", line 767, in _score\n",
      "    scores = scorer(estimator, X_test, y_test)\n",
      "  File \"C:\\Users\\CLIENTE\\anaconda3\\lib\\site-packages\\sklearn\\metrics\\_scorer.py\", line 106, in __call__\n",
      "    score = scorer._score(cached_call, estimator, *args, **kwargs)\n",
      "  File \"C:\\Users\\CLIENTE\\anaconda3\\lib\\site-packages\\sklearn\\metrics\\_scorer.py\", line 267, in _score\n",
      "    return self._sign * self._score_func(y_true, y_pred, **self._kwargs)\n",
      "  File \"C:\\Users\\CLIENTE\\anaconda3\\lib\\site-packages\\sklearn\\metrics\\_regression.py\", line 442, in mean_squared_error\n",
      "    y_type, y_true, y_pred, multioutput = _check_reg_targets(\n",
      "  File \"C:\\Users\\CLIENTE\\anaconda3\\lib\\site-packages\\sklearn\\metrics\\_regression.py\", line 102, in _check_reg_targets\n",
      "    y_pred = check_array(y_pred, ensure_2d=False, dtype=dtype)\n",
      "  File \"C:\\Users\\CLIENTE\\anaconda3\\lib\\site-packages\\sklearn\\utils\\validation.py\", line 899, in check_array\n",
      "    _assert_all_finite(\n",
      "  File \"C:\\Users\\CLIENTE\\anaconda3\\lib\\site-packages\\sklearn\\utils\\validation.py\", line 146, in _assert_all_finite\n",
      "    raise ValueError(msg_err)\n",
      "ValueError: Input contains NaN.\n",
      "\n",
      "  warnings.warn(\n",
      "C:\\Users\\CLIENTE\\anaconda3\\lib\\site-packages\\sklearn\\cross_decomposition\\_pls.py:94: RuntimeWarning: invalid value encountered in true_divide\n",
      "  y_weights = np.dot(Y.T, x_score) / np.dot(x_score.T, x_score)\n",
      "C:\\Users\\CLIENTE\\anaconda3\\lib\\site-packages\\sklearn\\cross_decomposition\\_pls.py:324: RuntimeWarning: invalid value encountered in true_divide\n",
      "  x_loadings = np.dot(x_scores, Xk) / np.dot(x_scores, x_scores)\n",
      "C:\\Users\\CLIENTE\\anaconda3\\lib\\site-packages\\sklearn\\cross_decomposition\\_pls.py:333: RuntimeWarning: invalid value encountered in true_divide\n",
      "  y_loadings = np.dot(x_scores, Yk) / np.dot(x_scores, x_scores)\n",
      "C:\\Users\\CLIENTE\\anaconda3\\lib\\site-packages\\sklearn\\model_selection\\_validation.py:776: UserWarning: Scoring failed. The score on this train-test partition for these parameters will be set to nan. Details: \n",
      "Traceback (most recent call last):\n",
      "  File \"C:\\Users\\CLIENTE\\anaconda3\\lib\\site-packages\\sklearn\\model_selection\\_validation.py\", line 767, in _score\n",
      "    scores = scorer(estimator, X_test, y_test)\n",
      "  File \"C:\\Users\\CLIENTE\\anaconda3\\lib\\site-packages\\sklearn\\metrics\\_scorer.py\", line 106, in __call__\n",
      "    score = scorer._score(cached_call, estimator, *args, **kwargs)\n",
      "  File \"C:\\Users\\CLIENTE\\anaconda3\\lib\\site-packages\\sklearn\\metrics\\_scorer.py\", line 267, in _score\n",
      "    return self._sign * self._score_func(y_true, y_pred, **self._kwargs)\n",
      "  File \"C:\\Users\\CLIENTE\\anaconda3\\lib\\site-packages\\sklearn\\metrics\\_regression.py\", line 442, in mean_squared_error\n",
      "    y_type, y_true, y_pred, multioutput = _check_reg_targets(\n",
      "  File \"C:\\Users\\CLIENTE\\anaconda3\\lib\\site-packages\\sklearn\\metrics\\_regression.py\", line 102, in _check_reg_targets\n",
      "    y_pred = check_array(y_pred, ensure_2d=False, dtype=dtype)\n",
      "  File \"C:\\Users\\CLIENTE\\anaconda3\\lib\\site-packages\\sklearn\\utils\\validation.py\", line 899, in check_array\n",
      "    _assert_all_finite(\n",
      "  File \"C:\\Users\\CLIENTE\\anaconda3\\lib\\site-packages\\sklearn\\utils\\validation.py\", line 146, in _assert_all_finite\n",
      "    raise ValueError(msg_err)\n",
      "ValueError: Input contains NaN.\n",
      "\n",
      "  warnings.warn(\n",
      "C:\\Users\\CLIENTE\\anaconda3\\lib\\site-packages\\sklearn\\cross_decomposition\\_pls.py:94: RuntimeWarning: invalid value encountered in true_divide\n",
      "  y_weights = np.dot(Y.T, x_score) / np.dot(x_score.T, x_score)\n",
      "C:\\Users\\CLIENTE\\anaconda3\\lib\\site-packages\\sklearn\\cross_decomposition\\_pls.py:324: RuntimeWarning: invalid value encountered in true_divide\n",
      "  x_loadings = np.dot(x_scores, Xk) / np.dot(x_scores, x_scores)\n",
      "C:\\Users\\CLIENTE\\anaconda3\\lib\\site-packages\\sklearn\\cross_decomposition\\_pls.py:333: RuntimeWarning: invalid value encountered in true_divide\n",
      "  y_loadings = np.dot(x_scores, Yk) / np.dot(x_scores, x_scores)\n",
      "C:\\Users\\CLIENTE\\anaconda3\\lib\\site-packages\\sklearn\\model_selection\\_validation.py:776: UserWarning: Scoring failed. The score on this train-test partition for these parameters will be set to nan. Details: \n",
      "Traceback (most recent call last):\n",
      "  File \"C:\\Users\\CLIENTE\\anaconda3\\lib\\site-packages\\sklearn\\model_selection\\_validation.py\", line 767, in _score\n",
      "    scores = scorer(estimator, X_test, y_test)\n",
      "  File \"C:\\Users\\CLIENTE\\anaconda3\\lib\\site-packages\\sklearn\\metrics\\_scorer.py\", line 106, in __call__\n",
      "    score = scorer._score(cached_call, estimator, *args, **kwargs)\n",
      "  File \"C:\\Users\\CLIENTE\\anaconda3\\lib\\site-packages\\sklearn\\metrics\\_scorer.py\", line 267, in _score\n",
      "    return self._sign * self._score_func(y_true, y_pred, **self._kwargs)\n",
      "  File \"C:\\Users\\CLIENTE\\anaconda3\\lib\\site-packages\\sklearn\\metrics\\_regression.py\", line 442, in mean_squared_error\n",
      "    y_type, y_true, y_pred, multioutput = _check_reg_targets(\n",
      "  File \"C:\\Users\\CLIENTE\\anaconda3\\lib\\site-packages\\sklearn\\metrics\\_regression.py\", line 102, in _check_reg_targets\n",
      "    y_pred = check_array(y_pred, ensure_2d=False, dtype=dtype)\n",
      "  File \"C:\\Users\\CLIENTE\\anaconda3\\lib\\site-packages\\sklearn\\utils\\validation.py\", line 899, in check_array\n",
      "    _assert_all_finite(\n",
      "  File \"C:\\Users\\CLIENTE\\anaconda3\\lib\\site-packages\\sklearn\\utils\\validation.py\", line 146, in _assert_all_finite\n",
      "    raise ValueError(msg_err)\n",
      "ValueError: Input contains NaN.\n",
      "\n",
      "  warnings.warn(\n",
      "C:\\Users\\CLIENTE\\anaconda3\\lib\\site-packages\\sklearn\\cross_decomposition\\_pls.py:94: RuntimeWarning: invalid value encountered in true_divide\n",
      "  y_weights = np.dot(Y.T, x_score) / np.dot(x_score.T, x_score)\n",
      "C:\\Users\\CLIENTE\\anaconda3\\lib\\site-packages\\sklearn\\cross_decomposition\\_pls.py:324: RuntimeWarning: invalid value encountered in true_divide\n",
      "  x_loadings = np.dot(x_scores, Xk) / np.dot(x_scores, x_scores)\n",
      "C:\\Users\\CLIENTE\\anaconda3\\lib\\site-packages\\sklearn\\cross_decomposition\\_pls.py:333: RuntimeWarning: invalid value encountered in true_divide\n",
      "  y_loadings = np.dot(x_scores, Yk) / np.dot(x_scores, x_scores)\n",
      "C:\\Users\\CLIENTE\\anaconda3\\lib\\site-packages\\sklearn\\model_selection\\_validation.py:776: UserWarning: Scoring failed. The score on this train-test partition for these parameters will be set to nan. Details: \n",
      "Traceback (most recent call last):\n",
      "  File \"C:\\Users\\CLIENTE\\anaconda3\\lib\\site-packages\\sklearn\\model_selection\\_validation.py\", line 767, in _score\n",
      "    scores = scorer(estimator, X_test, y_test)\n",
      "  File \"C:\\Users\\CLIENTE\\anaconda3\\lib\\site-packages\\sklearn\\metrics\\_scorer.py\", line 106, in __call__\n",
      "    score = scorer._score(cached_call, estimator, *args, **kwargs)\n",
      "  File \"C:\\Users\\CLIENTE\\anaconda3\\lib\\site-packages\\sklearn\\metrics\\_scorer.py\", line 267, in _score\n",
      "    return self._sign * self._score_func(y_true, y_pred, **self._kwargs)\n",
      "  File \"C:\\Users\\CLIENTE\\anaconda3\\lib\\site-packages\\sklearn\\metrics\\_regression.py\", line 442, in mean_squared_error\n",
      "    y_type, y_true, y_pred, multioutput = _check_reg_targets(\n",
      "  File \"C:\\Users\\CLIENTE\\anaconda3\\lib\\site-packages\\sklearn\\metrics\\_regression.py\", line 102, in _check_reg_targets\n",
      "    y_pred = check_array(y_pred, ensure_2d=False, dtype=dtype)\n",
      "  File \"C:\\Users\\CLIENTE\\anaconda3\\lib\\site-packages\\sklearn\\utils\\validation.py\", line 899, in check_array\n",
      "    _assert_all_finite(\n",
      "  File \"C:\\Users\\CLIENTE\\anaconda3\\lib\\site-packages\\sklearn\\utils\\validation.py\", line 146, in _assert_all_finite\n",
      "    raise ValueError(msg_err)\n",
      "ValueError: Input contains NaN.\n",
      "\n",
      "  warnings.warn(\n",
      "C:\\Users\\CLIENTE\\anaconda3\\lib\\site-packages\\sklearn\\cross_decomposition\\_pls.py:94: RuntimeWarning: invalid value encountered in true_divide\n",
      "  y_weights = np.dot(Y.T, x_score) / np.dot(x_score.T, x_score)\n",
      "C:\\Users\\CLIENTE\\anaconda3\\lib\\site-packages\\sklearn\\cross_decomposition\\_pls.py:324: RuntimeWarning: invalid value encountered in true_divide\n",
      "  x_loadings = np.dot(x_scores, Xk) / np.dot(x_scores, x_scores)\n",
      "C:\\Users\\CLIENTE\\anaconda3\\lib\\site-packages\\sklearn\\cross_decomposition\\_pls.py:333: RuntimeWarning: invalid value encountered in true_divide\n",
      "  y_loadings = np.dot(x_scores, Yk) / np.dot(x_scores, x_scores)\n",
      "C:\\Users\\CLIENTE\\anaconda3\\lib\\site-packages\\sklearn\\model_selection\\_validation.py:776: UserWarning: Scoring failed. The score on this train-test partition for these parameters will be set to nan. Details: \n",
      "Traceback (most recent call last):\n",
      "  File \"C:\\Users\\CLIENTE\\anaconda3\\lib\\site-packages\\sklearn\\model_selection\\_validation.py\", line 767, in _score\n",
      "    scores = scorer(estimator, X_test, y_test)\n",
      "  File \"C:\\Users\\CLIENTE\\anaconda3\\lib\\site-packages\\sklearn\\metrics\\_scorer.py\", line 106, in __call__\n",
      "    score = scorer._score(cached_call, estimator, *args, **kwargs)\n",
      "  File \"C:\\Users\\CLIENTE\\anaconda3\\lib\\site-packages\\sklearn\\metrics\\_scorer.py\", line 267, in _score\n",
      "    return self._sign * self._score_func(y_true, y_pred, **self._kwargs)\n",
      "  File \"C:\\Users\\CLIENTE\\anaconda3\\lib\\site-packages\\sklearn\\metrics\\_regression.py\", line 442, in mean_squared_error\n",
      "    y_type, y_true, y_pred, multioutput = _check_reg_targets(\n",
      "  File \"C:\\Users\\CLIENTE\\anaconda3\\lib\\site-packages\\sklearn\\metrics\\_regression.py\", line 102, in _check_reg_targets\n",
      "    y_pred = check_array(y_pred, ensure_2d=False, dtype=dtype)\n",
      "  File \"C:\\Users\\CLIENTE\\anaconda3\\lib\\site-packages\\sklearn\\utils\\validation.py\", line 899, in check_array\n",
      "    _assert_all_finite(\n",
      "  File \"C:\\Users\\CLIENTE\\anaconda3\\lib\\site-packages\\sklearn\\utils\\validation.py\", line 146, in _assert_all_finite\n",
      "    raise ValueError(msg_err)\n",
      "ValueError: Input contains NaN.\n",
      "\n",
      "  warnings.warn(\n",
      "C:\\Users\\CLIENTE\\anaconda3\\lib\\site-packages\\sklearn\\cross_decomposition\\_pls.py:94: RuntimeWarning: invalid value encountered in true_divide\n",
      "  y_weights = np.dot(Y.T, x_score) / np.dot(x_score.T, x_score)\n",
      "C:\\Users\\CLIENTE\\anaconda3\\lib\\site-packages\\sklearn\\cross_decomposition\\_pls.py:324: RuntimeWarning: invalid value encountered in true_divide\n",
      "  x_loadings = np.dot(x_scores, Xk) / np.dot(x_scores, x_scores)\n",
      "C:\\Users\\CLIENTE\\anaconda3\\lib\\site-packages\\sklearn\\cross_decomposition\\_pls.py:333: RuntimeWarning: invalid value encountered in true_divide\n",
      "  y_loadings = np.dot(x_scores, Yk) / np.dot(x_scores, x_scores)\n",
      "C:\\Users\\CLIENTE\\anaconda3\\lib\\site-packages\\sklearn\\model_selection\\_validation.py:776: UserWarning: Scoring failed. The score on this train-test partition for these parameters will be set to nan. Details: \n",
      "Traceback (most recent call last):\n",
      "  File \"C:\\Users\\CLIENTE\\anaconda3\\lib\\site-packages\\sklearn\\model_selection\\_validation.py\", line 767, in _score\n",
      "    scores = scorer(estimator, X_test, y_test)\n",
      "  File \"C:\\Users\\CLIENTE\\anaconda3\\lib\\site-packages\\sklearn\\metrics\\_scorer.py\", line 106, in __call__\n",
      "    score = scorer._score(cached_call, estimator, *args, **kwargs)\n",
      "  File \"C:\\Users\\CLIENTE\\anaconda3\\lib\\site-packages\\sklearn\\metrics\\_scorer.py\", line 267, in _score\n",
      "    return self._sign * self._score_func(y_true, y_pred, **self._kwargs)\n",
      "  File \"C:\\Users\\CLIENTE\\anaconda3\\lib\\site-packages\\sklearn\\metrics\\_regression.py\", line 442, in mean_squared_error\n",
      "    y_type, y_true, y_pred, multioutput = _check_reg_targets(\n",
      "  File \"C:\\Users\\CLIENTE\\anaconda3\\lib\\site-packages\\sklearn\\metrics\\_regression.py\", line 102, in _check_reg_targets\n",
      "    y_pred = check_array(y_pred, ensure_2d=False, dtype=dtype)\n",
      "  File \"C:\\Users\\CLIENTE\\anaconda3\\lib\\site-packages\\sklearn\\utils\\validation.py\", line 899, in check_array\n",
      "    _assert_all_finite(\n",
      "  File \"C:\\Users\\CLIENTE\\anaconda3\\lib\\site-packages\\sklearn\\utils\\validation.py\", line 146, in _assert_all_finite\n",
      "    raise ValueError(msg_err)\n",
      "ValueError: Input contains NaN.\n",
      "\n",
      "  warnings.warn(\n",
      "C:\\Users\\CLIENTE\\anaconda3\\lib\\site-packages\\sklearn\\cross_decomposition\\_pls.py:94: RuntimeWarning: invalid value encountered in true_divide\n",
      "  y_weights = np.dot(Y.T, x_score) / np.dot(x_score.T, x_score)\n",
      "C:\\Users\\CLIENTE\\anaconda3\\lib\\site-packages\\sklearn\\cross_decomposition\\_pls.py:324: RuntimeWarning: invalid value encountered in true_divide\n",
      "  x_loadings = np.dot(x_scores, Xk) / np.dot(x_scores, x_scores)\n",
      "C:\\Users\\CLIENTE\\anaconda3\\lib\\site-packages\\sklearn\\cross_decomposition\\_pls.py:333: RuntimeWarning: invalid value encountered in true_divide\n",
      "  y_loadings = np.dot(x_scores, Yk) / np.dot(x_scores, x_scores)\n",
      "C:\\Users\\CLIENTE\\anaconda3\\lib\\site-packages\\sklearn\\model_selection\\_validation.py:776: UserWarning: Scoring failed. The score on this train-test partition for these parameters will be set to nan. Details: \n",
      "Traceback (most recent call last):\n",
      "  File \"C:\\Users\\CLIENTE\\anaconda3\\lib\\site-packages\\sklearn\\model_selection\\_validation.py\", line 767, in _score\n",
      "    scores = scorer(estimator, X_test, y_test)\n",
      "  File \"C:\\Users\\CLIENTE\\anaconda3\\lib\\site-packages\\sklearn\\metrics\\_scorer.py\", line 106, in __call__\n",
      "    score = scorer._score(cached_call, estimator, *args, **kwargs)\n",
      "  File \"C:\\Users\\CLIENTE\\anaconda3\\lib\\site-packages\\sklearn\\metrics\\_scorer.py\", line 267, in _score\n",
      "    return self._sign * self._score_func(y_true, y_pred, **self._kwargs)\n",
      "  File \"C:\\Users\\CLIENTE\\anaconda3\\lib\\site-packages\\sklearn\\metrics\\_regression.py\", line 442, in mean_squared_error\n",
      "    y_type, y_true, y_pred, multioutput = _check_reg_targets(\n",
      "  File \"C:\\Users\\CLIENTE\\anaconda3\\lib\\site-packages\\sklearn\\metrics\\_regression.py\", line 102, in _check_reg_targets\n",
      "    y_pred = check_array(y_pred, ensure_2d=False, dtype=dtype)\n",
      "  File \"C:\\Users\\CLIENTE\\anaconda3\\lib\\site-packages\\sklearn\\utils\\validation.py\", line 899, in check_array\n",
      "    _assert_all_finite(\n",
      "  File \"C:\\Users\\CLIENTE\\anaconda3\\lib\\site-packages\\sklearn\\utils\\validation.py\", line 146, in _assert_all_finite\n",
      "    raise ValueError(msg_err)\n",
      "ValueError: Input contains NaN.\n",
      "\n",
      "  warnings.warn(\n",
      "C:\\Users\\CLIENTE\\anaconda3\\lib\\site-packages\\sklearn\\cross_decomposition\\_pls.py:94: RuntimeWarning: invalid value encountered in true_divide\n",
      "  y_weights = np.dot(Y.T, x_score) / np.dot(x_score.T, x_score)\n",
      "C:\\Users\\CLIENTE\\anaconda3\\lib\\site-packages\\sklearn\\cross_decomposition\\_pls.py:324: RuntimeWarning: invalid value encountered in true_divide\n",
      "  x_loadings = np.dot(x_scores, Xk) / np.dot(x_scores, x_scores)\n",
      "C:\\Users\\CLIENTE\\anaconda3\\lib\\site-packages\\sklearn\\cross_decomposition\\_pls.py:333: RuntimeWarning: invalid value encountered in true_divide\n",
      "  y_loadings = np.dot(x_scores, Yk) / np.dot(x_scores, x_scores)\n",
      "C:\\Users\\CLIENTE\\anaconda3\\lib\\site-packages\\sklearn\\model_selection\\_validation.py:776: UserWarning: Scoring failed. The score on this train-test partition for these parameters will be set to nan. Details: \n",
      "Traceback (most recent call last):\n",
      "  File \"C:\\Users\\CLIENTE\\anaconda3\\lib\\site-packages\\sklearn\\model_selection\\_validation.py\", line 767, in _score\n",
      "    scores = scorer(estimator, X_test, y_test)\n",
      "  File \"C:\\Users\\CLIENTE\\anaconda3\\lib\\site-packages\\sklearn\\metrics\\_scorer.py\", line 106, in __call__\n",
      "    score = scorer._score(cached_call, estimator, *args, **kwargs)\n",
      "  File \"C:\\Users\\CLIENTE\\anaconda3\\lib\\site-packages\\sklearn\\metrics\\_scorer.py\", line 267, in _score\n",
      "    return self._sign * self._score_func(y_true, y_pred, **self._kwargs)\n",
      "  File \"C:\\Users\\CLIENTE\\anaconda3\\lib\\site-packages\\sklearn\\metrics\\_regression.py\", line 442, in mean_squared_error\n",
      "    y_type, y_true, y_pred, multioutput = _check_reg_targets(\n",
      "  File \"C:\\Users\\CLIENTE\\anaconda3\\lib\\site-packages\\sklearn\\metrics\\_regression.py\", line 102, in _check_reg_targets\n",
      "    y_pred = check_array(y_pred, ensure_2d=False, dtype=dtype)\n",
      "  File \"C:\\Users\\CLIENTE\\anaconda3\\lib\\site-packages\\sklearn\\utils\\validation.py\", line 899, in check_array\n",
      "    _assert_all_finite(\n",
      "  File \"C:\\Users\\CLIENTE\\anaconda3\\lib\\site-packages\\sklearn\\utils\\validation.py\", line 146, in _assert_all_finite\n",
      "    raise ValueError(msg_err)\n",
      "ValueError: Input contains NaN.\n",
      "\n",
      "  warnings.warn(\n",
      "C:\\Users\\CLIENTE\\anaconda3\\lib\\site-packages\\sklearn\\cross_decomposition\\_pls.py:94: RuntimeWarning: invalid value encountered in true_divide\n",
      "  y_weights = np.dot(Y.T, x_score) / np.dot(x_score.T, x_score)\n",
      "C:\\Users\\CLIENTE\\anaconda3\\lib\\site-packages\\sklearn\\cross_decomposition\\_pls.py:324: RuntimeWarning: invalid value encountered in true_divide\n",
      "  x_loadings = np.dot(x_scores, Xk) / np.dot(x_scores, x_scores)\n",
      "C:\\Users\\CLIENTE\\anaconda3\\lib\\site-packages\\sklearn\\cross_decomposition\\_pls.py:333: RuntimeWarning: invalid value encountered in true_divide\n",
      "  y_loadings = np.dot(x_scores, Yk) / np.dot(x_scores, x_scores)\n",
      "C:\\Users\\CLIENTE\\anaconda3\\lib\\site-packages\\sklearn\\model_selection\\_validation.py:776: UserWarning: Scoring failed. The score on this train-test partition for these parameters will be set to nan. Details: \n",
      "Traceback (most recent call last):\n",
      "  File \"C:\\Users\\CLIENTE\\anaconda3\\lib\\site-packages\\sklearn\\model_selection\\_validation.py\", line 767, in _score\n",
      "    scores = scorer(estimator, X_test, y_test)\n",
      "  File \"C:\\Users\\CLIENTE\\anaconda3\\lib\\site-packages\\sklearn\\metrics\\_scorer.py\", line 106, in __call__\n",
      "    score = scorer._score(cached_call, estimator, *args, **kwargs)\n",
      "  File \"C:\\Users\\CLIENTE\\anaconda3\\lib\\site-packages\\sklearn\\metrics\\_scorer.py\", line 267, in _score\n",
      "    return self._sign * self._score_func(y_true, y_pred, **self._kwargs)\n",
      "  File \"C:\\Users\\CLIENTE\\anaconda3\\lib\\site-packages\\sklearn\\metrics\\_regression.py\", line 442, in mean_squared_error\n",
      "    y_type, y_true, y_pred, multioutput = _check_reg_targets(\n",
      "  File \"C:\\Users\\CLIENTE\\anaconda3\\lib\\site-packages\\sklearn\\metrics\\_regression.py\", line 102, in _check_reg_targets\n",
      "    y_pred = check_array(y_pred, ensure_2d=False, dtype=dtype)\n",
      "  File \"C:\\Users\\CLIENTE\\anaconda3\\lib\\site-packages\\sklearn\\utils\\validation.py\", line 899, in check_array\n",
      "    _assert_all_finite(\n",
      "  File \"C:\\Users\\CLIENTE\\anaconda3\\lib\\site-packages\\sklearn\\utils\\validation.py\", line 146, in _assert_all_finite\n",
      "    raise ValueError(msg_err)\n",
      "ValueError: Input contains NaN.\n",
      "\n",
      "  warnings.warn(\n",
      "C:\\Users\\CLIENTE\\anaconda3\\lib\\site-packages\\sklearn\\cross_decomposition\\_pls.py:94: RuntimeWarning: invalid value encountered in true_divide\n",
      "  y_weights = np.dot(Y.T, x_score) / np.dot(x_score.T, x_score)\n",
      "C:\\Users\\CLIENTE\\anaconda3\\lib\\site-packages\\sklearn\\cross_decomposition\\_pls.py:324: RuntimeWarning: invalid value encountered in true_divide\n",
      "  x_loadings = np.dot(x_scores, Xk) / np.dot(x_scores, x_scores)\n",
      "C:\\Users\\CLIENTE\\anaconda3\\lib\\site-packages\\sklearn\\cross_decomposition\\_pls.py:333: RuntimeWarning: invalid value encountered in true_divide\n",
      "  y_loadings = np.dot(x_scores, Yk) / np.dot(x_scores, x_scores)\n",
      "C:\\Users\\CLIENTE\\anaconda3\\lib\\site-packages\\sklearn\\model_selection\\_validation.py:776: UserWarning: Scoring failed. The score on this train-test partition for these parameters will be set to nan. Details: \n",
      "Traceback (most recent call last):\n",
      "  File \"C:\\Users\\CLIENTE\\anaconda3\\lib\\site-packages\\sklearn\\model_selection\\_validation.py\", line 767, in _score\n",
      "    scores = scorer(estimator, X_test, y_test)\n",
      "  File \"C:\\Users\\CLIENTE\\anaconda3\\lib\\site-packages\\sklearn\\metrics\\_scorer.py\", line 106, in __call__\n",
      "    score = scorer._score(cached_call, estimator, *args, **kwargs)\n",
      "  File \"C:\\Users\\CLIENTE\\anaconda3\\lib\\site-packages\\sklearn\\metrics\\_scorer.py\", line 267, in _score\n",
      "    return self._sign * self._score_func(y_true, y_pred, **self._kwargs)\n",
      "  File \"C:\\Users\\CLIENTE\\anaconda3\\lib\\site-packages\\sklearn\\metrics\\_regression.py\", line 442, in mean_squared_error\n",
      "    y_type, y_true, y_pred, multioutput = _check_reg_targets(\n",
      "  File \"C:\\Users\\CLIENTE\\anaconda3\\lib\\site-packages\\sklearn\\metrics\\_regression.py\", line 102, in _check_reg_targets\n",
      "    y_pred = check_array(y_pred, ensure_2d=False, dtype=dtype)\n",
      "  File \"C:\\Users\\CLIENTE\\anaconda3\\lib\\site-packages\\sklearn\\utils\\validation.py\", line 899, in check_array\n",
      "    _assert_all_finite(\n",
      "  File \"C:\\Users\\CLIENTE\\anaconda3\\lib\\site-packages\\sklearn\\utils\\validation.py\", line 146, in _assert_all_finite\n",
      "    raise ValueError(msg_err)\n",
      "ValueError: Input contains NaN.\n",
      "\n",
      "  warnings.warn(\n",
      "C:\\Users\\CLIENTE\\anaconda3\\lib\\site-packages\\sklearn\\cross_decomposition\\_pls.py:94: RuntimeWarning: invalid value encountered in true_divide\n",
      "  y_weights = np.dot(Y.T, x_score) / np.dot(x_score.T, x_score)\n",
      "C:\\Users\\CLIENTE\\anaconda3\\lib\\site-packages\\sklearn\\cross_decomposition\\_pls.py:324: RuntimeWarning: invalid value encountered in true_divide\n",
      "  x_loadings = np.dot(x_scores, Xk) / np.dot(x_scores, x_scores)\n",
      "C:\\Users\\CLIENTE\\anaconda3\\lib\\site-packages\\sklearn\\cross_decomposition\\_pls.py:333: RuntimeWarning: invalid value encountered in true_divide\n",
      "  y_loadings = np.dot(x_scores, Yk) / np.dot(x_scores, x_scores)\n",
      "C:\\Users\\CLIENTE\\anaconda3\\lib\\site-packages\\sklearn\\model_selection\\_validation.py:776: UserWarning: Scoring failed. The score on this train-test partition for these parameters will be set to nan. Details: \n",
      "Traceback (most recent call last):\n",
      "  File \"C:\\Users\\CLIENTE\\anaconda3\\lib\\site-packages\\sklearn\\model_selection\\_validation.py\", line 767, in _score\n",
      "    scores = scorer(estimator, X_test, y_test)\n",
      "  File \"C:\\Users\\CLIENTE\\anaconda3\\lib\\site-packages\\sklearn\\metrics\\_scorer.py\", line 106, in __call__\n",
      "    score = scorer._score(cached_call, estimator, *args, **kwargs)\n",
      "  File \"C:\\Users\\CLIENTE\\anaconda3\\lib\\site-packages\\sklearn\\metrics\\_scorer.py\", line 267, in _score\n",
      "    return self._sign * self._score_func(y_true, y_pred, **self._kwargs)\n",
      "  File \"C:\\Users\\CLIENTE\\anaconda3\\lib\\site-packages\\sklearn\\metrics\\_regression.py\", line 442, in mean_squared_error\n",
      "    y_type, y_true, y_pred, multioutput = _check_reg_targets(\n",
      "  File \"C:\\Users\\CLIENTE\\anaconda3\\lib\\site-packages\\sklearn\\metrics\\_regression.py\", line 102, in _check_reg_targets\n",
      "    y_pred = check_array(y_pred, ensure_2d=False, dtype=dtype)\n",
      "  File \"C:\\Users\\CLIENTE\\anaconda3\\lib\\site-packages\\sklearn\\utils\\validation.py\", line 899, in check_array\n",
      "    _assert_all_finite(\n",
      "  File \"C:\\Users\\CLIENTE\\anaconda3\\lib\\site-packages\\sklearn\\utils\\validation.py\", line 146, in _assert_all_finite\n",
      "    raise ValueError(msg_err)\n",
      "ValueError: Input contains NaN.\n",
      "\n",
      "  warnings.warn(\n",
      "C:\\Users\\CLIENTE\\anaconda3\\lib\\site-packages\\sklearn\\cross_decomposition\\_pls.py:94: RuntimeWarning: invalid value encountered in true_divide\n",
      "  y_weights = np.dot(Y.T, x_score) / np.dot(x_score.T, x_score)\n",
      "C:\\Users\\CLIENTE\\anaconda3\\lib\\site-packages\\sklearn\\cross_decomposition\\_pls.py:324: RuntimeWarning: invalid value encountered in true_divide\n",
      "  x_loadings = np.dot(x_scores, Xk) / np.dot(x_scores, x_scores)\n",
      "C:\\Users\\CLIENTE\\anaconda3\\lib\\site-packages\\sklearn\\cross_decomposition\\_pls.py:333: RuntimeWarning: invalid value encountered in true_divide\n",
      "  y_loadings = np.dot(x_scores, Yk) / np.dot(x_scores, x_scores)\n",
      "C:\\Users\\CLIENTE\\anaconda3\\lib\\site-packages\\sklearn\\model_selection\\_validation.py:776: UserWarning: Scoring failed. The score on this train-test partition for these parameters will be set to nan. Details: \n",
      "Traceback (most recent call last):\n",
      "  File \"C:\\Users\\CLIENTE\\anaconda3\\lib\\site-packages\\sklearn\\model_selection\\_validation.py\", line 767, in _score\n",
      "    scores = scorer(estimator, X_test, y_test)\n",
      "  File \"C:\\Users\\CLIENTE\\anaconda3\\lib\\site-packages\\sklearn\\metrics\\_scorer.py\", line 106, in __call__\n",
      "    score = scorer._score(cached_call, estimator, *args, **kwargs)\n",
      "  File \"C:\\Users\\CLIENTE\\anaconda3\\lib\\site-packages\\sklearn\\metrics\\_scorer.py\", line 267, in _score\n",
      "    return self._sign * self._score_func(y_true, y_pred, **self._kwargs)\n",
      "  File \"C:\\Users\\CLIENTE\\anaconda3\\lib\\site-packages\\sklearn\\metrics\\_regression.py\", line 442, in mean_squared_error\n",
      "    y_type, y_true, y_pred, multioutput = _check_reg_targets(\n",
      "  File \"C:\\Users\\CLIENTE\\anaconda3\\lib\\site-packages\\sklearn\\metrics\\_regression.py\", line 102, in _check_reg_targets\n",
      "    y_pred = check_array(y_pred, ensure_2d=False, dtype=dtype)\n",
      "  File \"C:\\Users\\CLIENTE\\anaconda3\\lib\\site-packages\\sklearn\\utils\\validation.py\", line 899, in check_array\n",
      "    _assert_all_finite(\n",
      "  File \"C:\\Users\\CLIENTE\\anaconda3\\lib\\site-packages\\sklearn\\utils\\validation.py\", line 146, in _assert_all_finite\n",
      "    raise ValueError(msg_err)\n",
      "ValueError: Input contains NaN.\n",
      "\n",
      "  warnings.warn(\n",
      "C:\\Users\\CLIENTE\\anaconda3\\lib\\site-packages\\sklearn\\cross_decomposition\\_pls.py:94: RuntimeWarning: invalid value encountered in true_divide\n",
      "  y_weights = np.dot(Y.T, x_score) / np.dot(x_score.T, x_score)\n",
      "C:\\Users\\CLIENTE\\anaconda3\\lib\\site-packages\\sklearn\\cross_decomposition\\_pls.py:324: RuntimeWarning: invalid value encountered in true_divide\n",
      "  x_loadings = np.dot(x_scores, Xk) / np.dot(x_scores, x_scores)\n",
      "C:\\Users\\CLIENTE\\anaconda3\\lib\\site-packages\\sklearn\\cross_decomposition\\_pls.py:333: RuntimeWarning: invalid value encountered in true_divide\n",
      "  y_loadings = np.dot(x_scores, Yk) / np.dot(x_scores, x_scores)\n",
      "C:\\Users\\CLIENTE\\anaconda3\\lib\\site-packages\\sklearn\\model_selection\\_validation.py:776: UserWarning: Scoring failed. The score on this train-test partition for these parameters will be set to nan. Details: \n",
      "Traceback (most recent call last):\n",
      "  File \"C:\\Users\\CLIENTE\\anaconda3\\lib\\site-packages\\sklearn\\model_selection\\_validation.py\", line 767, in _score\n",
      "    scores = scorer(estimator, X_test, y_test)\n",
      "  File \"C:\\Users\\CLIENTE\\anaconda3\\lib\\site-packages\\sklearn\\metrics\\_scorer.py\", line 106, in __call__\n",
      "    score = scorer._score(cached_call, estimator, *args, **kwargs)\n",
      "  File \"C:\\Users\\CLIENTE\\anaconda3\\lib\\site-packages\\sklearn\\metrics\\_scorer.py\", line 267, in _score\n",
      "    return self._sign * self._score_func(y_true, y_pred, **self._kwargs)\n",
      "  File \"C:\\Users\\CLIENTE\\anaconda3\\lib\\site-packages\\sklearn\\metrics\\_regression.py\", line 442, in mean_squared_error\n",
      "    y_type, y_true, y_pred, multioutput = _check_reg_targets(\n",
      "  File \"C:\\Users\\CLIENTE\\anaconda3\\lib\\site-packages\\sklearn\\metrics\\_regression.py\", line 102, in _check_reg_targets\n",
      "    y_pred = check_array(y_pred, ensure_2d=False, dtype=dtype)\n",
      "  File \"C:\\Users\\CLIENTE\\anaconda3\\lib\\site-packages\\sklearn\\utils\\validation.py\", line 899, in check_array\n",
      "    _assert_all_finite(\n",
      "  File \"C:\\Users\\CLIENTE\\anaconda3\\lib\\site-packages\\sklearn\\utils\\validation.py\", line 146, in _assert_all_finite\n",
      "    raise ValueError(msg_err)\n",
      "ValueError: Input contains NaN.\n",
      "\n",
      "  warnings.warn(\n"
     ]
    },
    {
     "data": {
      "text/plain": [
       "Text(0.5, 1.0, 'hp')"
      ]
     },
     "execution_count": 63,
     "metadata": {},
     "output_type": "execute_result"
    },
    {
     "data": {
      "image/png": "[encoded data removed]",
      "text/plain": [
       "<Figure size 432x288 with 1 Axes>"
      ]
     },
     "metadata": {
      "needs_background": "light"
     },
     "output_type": "display_data"
    }
   ],
   "source": [
    "Y4 = df6[[\"price\"]]\n",
    "X4 = df6.drop(\"price\",axis=1)\n",
    "\n",
    "cv = RepeatedKFold(n_splits=10, n_repeats=3, random_state=1)\n",
    "\n",
    "mse = []\n",
    "n = len(X4)\n",
    "\n",
    "score = -1*model_selection.cross_val_score(PLSRegression(n_components=1),\n",
    "           np.ones((n,1)), Y4, cv=cv, scoring='neg_mean_squared_error').mean()    \n",
    "mse.append(score)\n",
    "\n",
    "for i in np.arange(1, 13):\n",
    "    pls = PLSRegression(n_components=i)\n",
    "    score = -1*model_selection.cross_val_score(pls, scale(X4), Y4, cv=cv,\n",
    "               scoring='neg_mean_squared_error').mean()\n",
    "    mse.append(score)\n",
    "\n",
    "plt.plot(mse)\n",
    "plt.xlabel('Number of PLS Components')\n",
    "plt.ylabel('MSE')\n",
    "plt.title('hp')"
   ]
  },
  {
   "cell_type": "markdown",
   "metadata": {},
   "source": [
    "Entre 10 y 12 es suficient"
   ]
  },
  {
   "cell_type": "code",
   "execution_count": 64,
   "metadata": {},
   "outputs": [
    {
     "name": "stdout",
     "output_type": "stream",
     "text": [
      "0.8757986918236881\n",
      "0.879343105576267\n"
     ]
    },
    {
     "name": "stderr",
     "output_type": "stream",
     "text": [
      "C:\\Users\\CLIENTE\\anaconda3\\lib\\site-packages\\sklearn\\base.py:443: UserWarning: X has feature names, but PLSRegression was fitted without feature names\n",
      "  warnings.warn(\n",
      "C:\\Users\\CLIENTE\\anaconda3\\lib\\site-packages\\sklearn\\base.py:443: UserWarning: X has feature names, but PLSRegression was fitted without feature names\n",
      "  warnings.warn(\n"
     ]
    }
   ],
   "source": [
    "#split the dataset into training (70%) and testing (30%) sets\n",
    "X_train,X_test,y_train,y_test = train_test_split(X4,Y4,test_size=0.3,random_state=0) \n",
    "\n",
    "#calculate RMSE\n",
    "pls = PLSRegression(n_components=15)\n",
    "PLS = pls.fit(scale(X_train), y_train)\n",
    "\n",
    "np.sqrt(mean_squared_error(y_test, pls.predict(scale(X_test))))\n",
    "\n",
    "print(PLS.score(X_train,y_train))\n",
    "print(PLS.score(X_test,y_test))\n",
    "\n",
    "###Los resultados de la PLSregresssion son bajos comparados con el random Forest SIN y CON x,y,z"
   ]
  },
  {
   "cell_type": "code",
   "execution_count": 65,
   "metadata": {},
   "outputs": [
    {
     "name": "stderr",
     "output_type": "stream",
     "text": [
      "C:\\Users\\CLIENTE\\anaconda3\\lib\\site-packages\\sklearn\\base.py:443: UserWarning: X has feature names, but PLSRegression was fitted without feature names\n",
      "  warnings.warn(\n"
     ]
    },
    {
     "data": {
      "text/plain": [
       "0.879343105576267"
      ]
     },
     "execution_count": 65,
     "metadata": {},
     "output_type": "execute_result"
    }
   ],
   "source": [
    "y_pred4 = pls.predict(X_test)\n",
    "r2_score(y_test.values.ravel(), y_pred4)"
   ]
  },
  {
   "cell_type": "markdown",
   "metadata": {},
   "source": [
    "##### Aplicando el PCA"
   ]
  },
  {
   "cell_type": "code",
   "execution_count": 66,
   "metadata": {},
   "outputs": [],
   "source": [
    "df6 = df4.copy()"
   ]
  },
  {
   "cell_type": "code",
   "execution_count": 67,
   "metadata": {},
   "outputs": [
    {
     "data": {
      "text/html": [
       "<div>\n",
       "<style scoped>\n",
       "    .dataframe tbody tr th:only-of-type {\n",
       "        vertical-align: middle;\n",
       "    }\n",
       "\n",
       "    .dataframe tbody tr th {\n",
       "        vertical-align: top;\n",
       "    }\n",
       "\n",
       "    .dataframe thead th {\n",
       "        text-align: right;\n",
       "    }\n",
       "</style>\n",
       "<table border=\"1\" class=\"dataframe\">\n",
       "  <thead>\n",
       "    <tr style=\"text-align: right;\">\n",
       "      <th></th>\n",
       "      <th>carat</th>\n",
       "      <th>depth</th>\n",
       "      <th>table</th>\n",
       "      <th>x</th>\n",
       "      <th>y</th>\n",
       "      <th>z</th>\n",
       "      <th>cut_Fair</th>\n",
       "      <th>cut_Good</th>\n",
       "      <th>cut_Ideal</th>\n",
       "      <th>cut_Premium</th>\n",
       "      <th>...</th>\n",
       "      <th>color_J</th>\n",
       "      <th>clarity_I1</th>\n",
       "      <th>clarity_IF</th>\n",
       "      <th>clarity_SI1</th>\n",
       "      <th>clarity_SI2</th>\n",
       "      <th>clarity_VS1</th>\n",
       "      <th>clarity_VS2</th>\n",
       "      <th>clarity_VVS1</th>\n",
       "      <th>clarity_VVS2</th>\n",
       "      <th>price</th>\n",
       "    </tr>\n",
       "  </thead>\n",
       "  <tbody>\n",
       "    <tr>\n",
       "      <th>0</th>\n",
       "      <td>-1.198178</td>\n",
       "      <td>-0.174032</td>\n",
       "      <td>-1.099663</td>\n",
       "      <td>-1.587868</td>\n",
       "      <td>-1.536224</td>\n",
       "      <td>-1.571152</td>\n",
       "      <td>0</td>\n",
       "      <td>0</td>\n",
       "      <td>1</td>\n",
       "      <td>0</td>\n",
       "      <td>...</td>\n",
       "      <td>0</td>\n",
       "      <td>0</td>\n",
       "      <td>0</td>\n",
       "      <td>0</td>\n",
       "      <td>1</td>\n",
       "      <td>0</td>\n",
       "      <td>0</td>\n",
       "      <td>0</td>\n",
       "      <td>0</td>\n",
       "      <td>326</td>\n",
       "    </tr>\n",
       "    <tr>\n",
       "      <th>1</th>\n",
       "      <td>-1.240372</td>\n",
       "      <td>-1.360664</td>\n",
       "      <td>1.585442</td>\n",
       "      <td>-1.641356</td>\n",
       "      <td>-1.658805</td>\n",
       "      <td>-1.741201</td>\n",
       "      <td>0</td>\n",
       "      <td>0</td>\n",
       "      <td>0</td>\n",
       "      <td>1</td>\n",
       "      <td>...</td>\n",
       "      <td>0</td>\n",
       "      <td>0</td>\n",
       "      <td>0</td>\n",
       "      <td>1</td>\n",
       "      <td>0</td>\n",
       "      <td>0</td>\n",
       "      <td>0</td>\n",
       "      <td>0</td>\n",
       "      <td>0</td>\n",
       "      <td>326</td>\n",
       "    </tr>\n",
       "    <tr>\n",
       "      <th>2</th>\n",
       "      <td>-1.198178</td>\n",
       "      <td>-3.384918</td>\n",
       "      <td>3.375513</td>\n",
       "      <td>-1.498720</td>\n",
       "      <td>-1.457422</td>\n",
       "      <td>-1.741201</td>\n",
       "      <td>0</td>\n",
       "      <td>1</td>\n",
       "      <td>0</td>\n",
       "      <td>0</td>\n",
       "      <td>...</td>\n",
       "      <td>0</td>\n",
       "      <td>0</td>\n",
       "      <td>0</td>\n",
       "      <td>0</td>\n",
       "      <td>0</td>\n",
       "      <td>1</td>\n",
       "      <td>0</td>\n",
       "      <td>0</td>\n",
       "      <td>0</td>\n",
       "      <td>327</td>\n",
       "    </tr>\n",
       "    <tr>\n",
       "      <th>3</th>\n",
       "      <td>-1.071595</td>\n",
       "      <td>0.454185</td>\n",
       "      <td>0.242890</td>\n",
       "      <td>-1.364997</td>\n",
       "      <td>-1.317330</td>\n",
       "      <td>-1.287737</td>\n",
       "      <td>0</td>\n",
       "      <td>0</td>\n",
       "      <td>0</td>\n",
       "      <td>1</td>\n",
       "      <td>...</td>\n",
       "      <td>0</td>\n",
       "      <td>0</td>\n",
       "      <td>0</td>\n",
       "      <td>0</td>\n",
       "      <td>0</td>\n",
       "      <td>0</td>\n",
       "      <td>1</td>\n",
       "      <td>0</td>\n",
       "      <td>0</td>\n",
       "      <td>334</td>\n",
       "    </tr>\n",
       "    <tr>\n",
       "      <th>4</th>\n",
       "      <td>-1.029401</td>\n",
       "      <td>1.082402</td>\n",
       "      <td>0.242890</td>\n",
       "      <td>-1.240190</td>\n",
       "      <td>-1.212261</td>\n",
       "      <td>-1.117688</td>\n",
       "      <td>0</td>\n",
       "      <td>1</td>\n",
       "      <td>0</td>\n",
       "      <td>0</td>\n",
       "      <td>...</td>\n",
       "      <td>1</td>\n",
       "      <td>0</td>\n",
       "      <td>0</td>\n",
       "      <td>0</td>\n",
       "      <td>1</td>\n",
       "      <td>0</td>\n",
       "      <td>0</td>\n",
       "      <td>0</td>\n",
       "      <td>0</td>\n",
       "      <td>335</td>\n",
       "    </tr>\n",
       "  </tbody>\n",
       "</table>\n",
       "<p>5 rows × 27 columns</p>\n",
       "</div>"
      ],
      "text/plain": [
       "      carat     depth     table         x         y         z  cut_Fair  \\\n",
       "0 -1.198178 -0.174032 -1.099663 -1.587868 -1.536224 -1.571152         0   \n",
       "1 -1.240372 -1.360664  1.585442 -1.641356 -1.658805 -1.741201         0   \n",
       "2 -1.198178 -3.384918  3.375513 -1.498720 -1.457422 -1.741201         0   \n",
       "3 -1.071595  0.454185  0.242890 -1.364997 -1.317330 -1.287737         0   \n",
       "4 -1.029401  1.082402  0.242890 -1.240190 -1.212261 -1.117688         0   \n",
       "\n",
       "   cut_Good  cut_Ideal  cut_Premium  ...  color_J  clarity_I1  clarity_IF  \\\n",
       "0         0          1            0  ...        0           0           0   \n",
       "1         0          0            1  ...        0           0           0   \n",
       "2         1          0            0  ...        0           0           0   \n",
       "3         0          0            1  ...        0           0           0   \n",
       "4         1          0            0  ...        1           0           0   \n",
       "\n",
       "   clarity_SI1  clarity_SI2  clarity_VS1  clarity_VS2  clarity_VVS1  \\\n",
       "0            0            1            0            0             0   \n",
       "1            1            0            0            0             0   \n",
       "2            0            0            1            0             0   \n",
       "3            0            0            0            1             0   \n",
       "4            0            1            0            0             0   \n",
       "\n",
       "   clarity_VVS2  price  \n",
       "0             0    326  \n",
       "1             0    326  \n",
       "2             0    327  \n",
       "3             0    334  \n",
       "4             0    335  \n",
       "\n",
       "[5 rows x 27 columns]"
      ]
     },
     "execution_count": 67,
     "metadata": {},
     "output_type": "execute_result"
    }
   ],
   "source": [
    "df6.head()"
   ]
  },
  {
   "cell_type": "code",
   "execution_count": 68,
   "metadata": {},
   "outputs": [],
   "source": [
    "from sklearn.decomposition import PCA"
   ]
  },
  {
   "cell_type": "code",
   "execution_count": 69,
   "metadata": {},
   "outputs": [],
   "source": [
    "Y= df6[[\"price\"]]\n",
    "X = df6.drop(\"price\",axis=1)"
   ]
  },
  {
   "cell_type": "code",
   "execution_count": 70,
   "metadata": {},
   "outputs": [],
   "source": [
    "pca = PCA(n_components=26)\n",
    "\n",
    "X_PCA = pca.fit_transform(X)"
   ]
  },
  {
   "cell_type": "code",
   "execution_count": 71,
   "metadata": {},
   "outputs": [
    {
     "data": {
      "text/plain": [
       "(53943, 26)"
      ]
     },
     "execution_count": 71,
     "metadata": {},
     "output_type": "execute_result"
    }
   ],
   "source": [
    "X_PCA.shape"
   ]
  },
  {
   "cell_type": "code",
   "execution_count": 72,
   "metadata": {},
   "outputs": [],
   "source": [
    "acc5=[]\n",
    "for i in [0, 1, 2, 3, 4, 5, 42]:\n",
    "    X_train3,X_test3, y_train3,y_test3 = train_test_split(X_PCA,Y,test_size=0.2,random_state=i)\n",
    "    model3 = RandomForestRegressor(n_estimators=20, min_samples_leaf=3, random_state=1)\n",
    "    model3.fit(X_train3,y_train3.values.ravel())\n",
    "    y_pred3 = model3.predict(X_test3)\n",
    "    acc5.append(r2_score(y_test3.values.ravel(), y_pred3))"
   ]
  },
  {
   "cell_type": "code",
   "execution_count": 73,
   "metadata": {},
   "outputs": [
    {
     "data": {
      "text/plain": [
       "[0.9756935706678668,\n",
       " 0.9776023311974886,\n",
       " 0.9765277511339474,\n",
       " 0.9761831549995558,\n",
       " 0.9771418608845683,\n",
       " 0.9785712679288017,\n",
       " 0.9777245251686341]"
      ]
     },
     "execution_count": 73,
     "metadata": {},
     "output_type": "execute_result"
    }
   ],
   "source": [
    "acc5\n",
    "## EL PCA da unos resultados ligeramente inferiores"
   ]
  },
  {
   "cell_type": "code",
   "execution_count": 74,
   "metadata": {
    "scrolled": true
   },
   "outputs": [],
   "source": [
    "lm3=LinearRegression().fit(X_train3,y_train3)\n",
    "\n",
    "#mse(lm3.predict(X_train3),y_train3,squared=False), mse(lm3.predict(X_test3),y_test3,squared=False)"
   ]
  },
  {
   "cell_type": "code",
   "execution_count": 75,
   "metadata": {
    "scrolled": true
   },
   "outputs": [
    {
     "name": "stdout",
     "output_type": "stream",
     "text": [
      "0.9191528514877809\n",
      "0.9221982562588074\n"
     ]
    }
   ],
   "source": [
    "print(lm3.score(X_train3,y_train3))\n",
    "print(lm3.score(X_test3,y_test3))"
   ]
  },
  {
   "cell_type": "markdown",
   "metadata": {},
   "source": [
    "PCA con % de componentes"
   ]
  },
  {
   "cell_type": "code",
   "execution_count": 76,
   "metadata": {},
   "outputs": [],
   "source": [
    "\n",
    "pca = PCA(.99)\n",
    "\n",
    "X_PCA = pca.fit_transform(X)"
   ]
  },
  {
   "cell_type": "code",
   "execution_count": 77,
   "metadata": {},
   "outputs": [
    {
     "data": {
      "text/plain": [
       "(53943, 20)"
      ]
     },
     "execution_count": 77,
     "metadata": {},
     "output_type": "execute_result"
    }
   ],
   "source": [
    "X_PCA.shape"
   ]
  },
  {
   "cell_type": "code",
   "execution_count": 166,
   "metadata": {},
   "outputs": [
    {
     "data": {
      "text/plain": [
       "array([[-3.06227135, -0.46454792, -0.70115538, ..., -0.25022038,\n",
       "        -0.07400575, -0.11561908],\n",
       "       [-2.86535141,  2.52429388,  0.47544488, ..., -0.33109116,\n",
       "        -0.04327904, -0.06599477],\n",
       "       [-2.50012189,  4.98204011,  0.01752966, ..., -0.33732486,\n",
       "         0.03040392, -0.05317165],\n",
       "       ...,\n",
       "       [-0.20265243,  0.02540831, -1.06220463, ...,  0.04587867,\n",
       "         0.04906205,  0.03424598],\n",
       "       [ 0.14125106,  2.52401251,  0.42209732, ...,  0.05820566,\n",
       "         0.01364381, -0.02059566],\n",
       "       [-0.08117731,  1.15560107, -0.03495933, ...,  0.06882039,\n",
       "         0.01911525,  0.03155379]])"
      ]
     },
     "execution_count": 166,
     "metadata": {},
     "output_type": "execute_result"
    }
   ],
   "source": [
    "X_PCA"
   ]
  },
  {
   "cell_type": "code",
   "execution_count": 141,
   "metadata": {},
   "outputs": [],
   "source": [
    "acc5=[]\n",
    "for i in [0, 1, 2, 3, 4, 5, 42]:\n",
    "    X_train3,X_test3, y_train3,y_test3 = train_test_split(X_PCA,Y,test_size=0.2,random_state=i)\n",
    "    model3 = RandomForestRegressor(n_estimators=20, min_samples_leaf=3, random_state=1)\n",
    "    model3.fit(X_train3,y_train3.values.ravel())\n",
    "    y_pred3 = model3.predict(X_test3)\n",
    "    acc5.append(r2_score(y_test3.values.ravel(), y_pred3))"
   ]
  },
  {
   "cell_type": "code",
   "execution_count": 143,
   "metadata": {},
   "outputs": [
    {
     "data": {
      "text/plain": [
       "43154"
      ]
     },
     "execution_count": 143,
     "metadata": {},
     "output_type": "execute_result"
    }
   ],
   "source": [
    "len(X_train3)"
   ]
  },
  {
   "cell_type": "code",
   "execution_count": 144,
   "metadata": {},
   "outputs": [
    {
     "data": {
      "text/plain": [
       "array([[-3.06227135, -0.46454792, -0.70115538, ..., -0.25022038,\n",
       "        -0.07400575, -0.11561908],\n",
       "       [-2.86535141,  2.52429388,  0.47544488, ..., -0.33109116,\n",
       "        -0.04327904, -0.06599477],\n",
       "       [-2.50012189,  4.98204011,  0.01752966, ..., -0.33732486,\n",
       "         0.03040392, -0.05317165],\n",
       "       ...,\n",
       "       [-0.20265243,  0.02540831, -1.06220463, ...,  0.04587867,\n",
       "         0.04906205,  0.03424598],\n",
       "       [ 0.14125106,  2.52401251,  0.42209732, ...,  0.05820566,\n",
       "         0.01364381, -0.02059566],\n",
       "       [-0.08117731,  1.15560107, -0.03495933, ...,  0.06882039,\n",
       "         0.01911525,  0.03155379]])"
      ]
     },
     "execution_count": 144,
     "metadata": {},
     "output_type": "execute_result"
    }
   ],
   "source": [
    "X_PCA"
   ]
  },
  {
   "cell_type": "code",
   "execution_count": 79,
   "metadata": {
    "scrolled": true
   },
   "outputs": [
    {
     "data": {
      "text/plain": [
       "[0.9741137273250464,\n",
       " 0.9746373750979329,\n",
       " 0.9733850368920899,\n",
       " 0.9738337966818619,\n",
       " 0.9756057738987618,\n",
       " 0.9765553513273932,\n",
       " 0.9746093495846351]"
      ]
     },
     "execution_count": 79,
     "metadata": {},
     "output_type": "execute_result"
    }
   ],
   "source": [
    "acc5\n",
    "## EL PCA con 95% da unos resultados ligeramente inferiores al anterior PCA con 26 components\n",
    "## Con random forest"
   ]
  },
  {
   "cell_type": "code",
   "execution_count": 80,
   "metadata": {
    "scrolled": true
   },
   "outputs": [],
   "source": [
    "\n",
    "lm3=LinearRegression().fit(X_train3,y_train3)\n",
    "\n",
    "#mse(lm3.predict(X_train3),y_train3,squared=False), mse(lm3.predict(X_test3),y_test3,squared=False)"
   ]
  },
  {
   "cell_type": "code",
   "execution_count": 81,
   "metadata": {
    "scrolled": true
   },
   "outputs": [
    {
     "name": "stdout",
     "output_type": "stream",
     "text": [
      "0.8945259079285882\n",
      "0.8736201998345268\n"
     ]
    }
   ],
   "source": [
    "print(lm3.score(X_train3,y_train3))\n",
    "print(lm3.score(X_test3,y_test3))\n",
    "## EL PCA con .95 da resultados bajos del 82\n",
    "## EL PCA con .99 da reusltados del .89 .87"
   ]
  },
  {
   "cell_type": "markdown",
   "metadata": {},
   "source": [
    "## Prediciendo 1a1"
   ]
  },
  {
   "cell_type": "code",
   "execution_count": 33,
   "metadata": {},
   "outputs": [],
   "source": [
    "N_Y = df6[['price']]"
   ]
  },
  {
   "cell_type": "code",
   "execution_count": 34,
   "metadata": {},
   "outputs": [],
   "source": [
    "N_X = df6[['carat', 'depth', 'table', 'cut_Fair', 'cut_Good',\n",
    "       'cut_Ideal', 'cut_Premium', 'cut_Very Good']]"
   ]
  },
  {
   "cell_type": "code",
   "execution_count": 35,
   "metadata": {},
   "outputs": [
    {
     "name": "stderr",
     "output_type": "stream",
     "text": [
      "C:\\Users\\CLIENTE\\anaconda3\\lib\\site-packages\\pandas\\core\\frame.py:2963: SettingWithCopyWarning: \n",
      "A value is trying to be set on a copy of a slice from a DataFrame.\n",
      "Try using .loc[row_indexer,col_indexer] = value instead\n",
      "\n",
      "See the caveats in the documentation: https://pandas.pydata.org/pandas-docs/stable/user_guide/indexing.html#returning-a-view-versus-a-copy\n",
      "  self[k1] = value[k2]\n"
     ]
    }
   ],
   "source": [
    "#XUXAZA[['carat', 'depth', 'table']] = XUXAZA['size'].apply(lambda x: int(x.split(' ')[0]))\n",
    "N_X[['carat', 'depth', 'table']] = N_X[['carat', 'depth', 'table']].round(1)"
   ]
  },
  {
   "cell_type": "code",
   "execution_count": 36,
   "metadata": {},
   "outputs": [
    {
     "data": {
      "text/html": [
       "<div>\n",
       "<style scoped>\n",
       "    .dataframe tbody tr th:only-of-type {\n",
       "        vertical-align: middle;\n",
       "    }\n",
       "\n",
       "    .dataframe tbody tr th {\n",
       "        vertical-align: top;\n",
       "    }\n",
       "\n",
       "    .dataframe thead th {\n",
       "        text-align: right;\n",
       "    }\n",
       "</style>\n",
       "<table border=\"1\" class=\"dataframe\">\n",
       "  <thead>\n",
       "    <tr style=\"text-align: right;\">\n",
       "      <th></th>\n",
       "      <th>carat</th>\n",
       "      <th>depth</th>\n",
       "      <th>table</th>\n",
       "      <th>cut_Fair</th>\n",
       "      <th>cut_Good</th>\n",
       "      <th>cut_Ideal</th>\n",
       "      <th>cut_Premium</th>\n",
       "      <th>cut_Very Good</th>\n",
       "    </tr>\n",
       "  </thead>\n",
       "  <tbody>\n",
       "    <tr>\n",
       "      <th>0</th>\n",
       "      <td>-1.2</td>\n",
       "      <td>-0.2</td>\n",
       "      <td>-1.1</td>\n",
       "      <td>0</td>\n",
       "      <td>0</td>\n",
       "      <td>1</td>\n",
       "      <td>0</td>\n",
       "      <td>0</td>\n",
       "    </tr>\n",
       "    <tr>\n",
       "      <th>1</th>\n",
       "      <td>-1.2</td>\n",
       "      <td>-1.4</td>\n",
       "      <td>1.6</td>\n",
       "      <td>0</td>\n",
       "      <td>0</td>\n",
       "      <td>0</td>\n",
       "      <td>1</td>\n",
       "      <td>0</td>\n",
       "    </tr>\n",
       "    <tr>\n",
       "      <th>2</th>\n",
       "      <td>-1.2</td>\n",
       "      <td>-3.4</td>\n",
       "      <td>3.4</td>\n",
       "      <td>0</td>\n",
       "      <td>1</td>\n",
       "      <td>0</td>\n",
       "      <td>0</td>\n",
       "      <td>0</td>\n",
       "    </tr>\n",
       "  </tbody>\n",
       "</table>\n",
       "</div>"
      ],
      "text/plain": [
       "   carat  depth  table  cut_Fair  cut_Good  cut_Ideal  cut_Premium  \\\n",
       "0   -1.2   -0.2   -1.1         0         0          1            0   \n",
       "1   -1.2   -1.4    1.6         0         0          0            1   \n",
       "2   -1.2   -3.4    3.4         0         1          0            0   \n",
       "\n",
       "   cut_Very Good  \n",
       "0              0  \n",
       "1              0  \n",
       "2              0  "
      ]
     },
     "execution_count": 36,
     "metadata": {},
     "output_type": "execute_result"
    }
   ],
   "source": [
    "N_X.head(3)"
   ]
  },
  {
   "cell_type": "code",
   "execution_count": 55,
   "metadata": {},
   "outputs": [],
   "source": [
    "X_train3,X_test3, y_train3,y_test3 = train_test_split(N_X,N_Y,test_size=0.2,random_state=42)"
   ]
  },
  {
   "cell_type": "code",
   "execution_count": 56,
   "metadata": {},
   "outputs": [
    {
     "data": {
      "text/plain": [
       "0.8598349764284189"
      ]
     },
     "execution_count": 56,
     "metadata": {},
     "output_type": "execute_result"
    }
   ],
   "source": [
    "from sklearn.linear_model import LinearRegression\n",
    "lr_clf = LinearRegression()\n",
    "lr_clf.fit(X_train3,y_train3)\n",
    "lr_clf.score(X_test3,y_test3)"
   ]
  },
  {
   "cell_type": "code",
   "execution_count": 57,
   "metadata": {},
   "outputs": [],
   "source": [
    "def predict_price(vari1,vari2,vari3,vari4):    \n",
    "    loc_index = np.where(N_X.columns==vari1)[0][0]\n",
    "\n",
    "    x = np.zeros(len(N_X.columns))\n",
    "    x[0] = vari2\n",
    "    x[1] = vari3\n",
    "    x[2] = vari4\n",
    "       \n",
    "    if loc_index >= 0:\n",
    "        x[loc_index] = 1\n",
    "\n",
    "    return lr_clf.predict([x])[0]"
   ]
  },
  {
   "cell_type": "code",
   "execution_count": 61,
   "metadata": {},
   "outputs": [
    {
     "name": "stderr",
     "output_type": "stream",
     "text": [
      "C:\\Users\\CLIENTE\\anaconda3\\lib\\site-packages\\sklearn\\base.py:450: UserWarning: X does not have valid feature names, but LinearRegression was fitted with feature names\n",
      "  warnings.warn(\n"
     ]
    },
    {
     "data": {
      "text/plain": [
       "array([-287.25])"
      ]
     },
     "execution_count": 61,
     "metadata": {},
     "output_type": "execute_result"
    }
   ],
   "source": [
    "predict_price(\"cut_Ideal\" ,-1.2, 0.2, -0.7)\n",
    "\n",
    "### Predice correctamente"
   ]
  },
  {
   "cell_type": "code",
   "execution_count": 59,
   "metadata": {},
   "outputs": [
    {
     "data": {
      "text/plain": [
       "array([[-287.25],\n",
       "       [7370.  ],\n",
       "       [  37.  ],\n",
       "       ...,\n",
       "       [1556.75],\n",
       "       [5726.  ],\n",
       "       [ 124.  ]])"
      ]
     },
     "execution_count": 59,
     "metadata": {},
     "output_type": "execute_result"
    }
   ],
   "source": [
    "lr_clf.predict(X_test3)"
   ]
  },
  {
   "cell_type": "code",
   "execution_count": null,
   "metadata": {},
   "outputs": [],
   "source": [
    "(\"cut_Very Good\" ,0.9, 0.8, -1.5)"
   ]
  },
  {
   "cell_type": "code",
   "execution_count": 60,
   "metadata": {},
   "outputs": [
    {
     "data": {
      "text/html": [
       "<div>\n",
       "<style scoped>\n",
       "    .dataframe tbody tr th:only-of-type {\n",
       "        vertical-align: middle;\n",
       "    }\n",
       "\n",
       "    .dataframe tbody tr th {\n",
       "        vertical-align: top;\n",
       "    }\n",
       "\n",
       "    .dataframe thead th {\n",
       "        text-align: right;\n",
       "    }\n",
       "</style>\n",
       "<table border=\"1\" class=\"dataframe\">\n",
       "  <thead>\n",
       "    <tr style=\"text-align: right;\">\n",
       "      <th></th>\n",
       "      <th>carat</th>\n",
       "      <th>depth</th>\n",
       "      <th>table</th>\n",
       "      <th>cut_Fair</th>\n",
       "      <th>cut_Good</th>\n",
       "      <th>cut_Ideal</th>\n",
       "      <th>cut_Premium</th>\n",
       "      <th>cut_Very Good</th>\n",
       "    </tr>\n",
       "  </thead>\n",
       "  <tbody>\n",
       "    <tr>\n",
       "      <th>1388</th>\n",
       "      <td>-1.2</td>\n",
       "      <td>0.2</td>\n",
       "      <td>-0.7</td>\n",
       "      <td>0</td>\n",
       "      <td>0</td>\n",
       "      <td>1</td>\n",
       "      <td>0</td>\n",
       "      <td>0</td>\n",
       "    </tr>\n",
       "    <tr>\n",
       "      <th>19841</th>\n",
       "      <td>0.9</td>\n",
       "      <td>0.8</td>\n",
       "      <td>-1.5</td>\n",
       "      <td>0</td>\n",
       "      <td>0</td>\n",
       "      <td>0</td>\n",
       "      <td>0</td>\n",
       "      <td>1</td>\n",
       "    </tr>\n",
       "    <tr>\n",
       "      <th>41647</th>\n",
       "      <td>-0.6</td>\n",
       "      <td>-0.0</td>\n",
       "      <td>4.7</td>\n",
       "      <td>1</td>\n",
       "      <td>0</td>\n",
       "      <td>0</td>\n",
       "      <td>0</td>\n",
       "      <td>0</td>\n",
       "    </tr>\n",
       "    <tr>\n",
       "      <th>41741</th>\n",
       "      <td>-0.6</td>\n",
       "      <td>0.7</td>\n",
       "      <td>-0.7</td>\n",
       "      <td>0</td>\n",
       "      <td>0</td>\n",
       "      <td>1</td>\n",
       "      <td>0</td>\n",
       "      <td>0</td>\n",
       "    </tr>\n",
       "    <tr>\n",
       "      <th>17244</th>\n",
       "      <td>1.6</td>\n",
       "      <td>0.4</td>\n",
       "      <td>-1.1</td>\n",
       "      <td>0</td>\n",
       "      <td>0</td>\n",
       "      <td>1</td>\n",
       "      <td>0</td>\n",
       "      <td>0</td>\n",
       "    </tr>\n",
       "    <tr>\n",
       "      <th>...</th>\n",
       "      <td>...</td>\n",
       "      <td>...</td>\n",
       "      <td>...</td>\n",
       "      <td>...</td>\n",
       "      <td>...</td>\n",
       "      <td>...</td>\n",
       "      <td>...</td>\n",
       "      <td>...</td>\n",
       "    </tr>\n",
       "    <tr>\n",
       "      <th>45518</th>\n",
       "      <td>-0.6</td>\n",
       "      <td>0.4</td>\n",
       "      <td>-1.1</td>\n",
       "      <td>0</td>\n",
       "      <td>0</td>\n",
       "      <td>1</td>\n",
       "      <td>0</td>\n",
       "      <td>0</td>\n",
       "    </tr>\n",
       "    <tr>\n",
       "      <th>30056</th>\n",
       "      <td>-0.8</td>\n",
       "      <td>-0.3</td>\n",
       "      <td>1.1</td>\n",
       "      <td>0</td>\n",
       "      <td>0</td>\n",
       "      <td>0</td>\n",
       "      <td>1</td>\n",
       "      <td>0</td>\n",
       "    </tr>\n",
       "    <tr>\n",
       "      <th>43748</th>\n",
       "      <td>-0.6</td>\n",
       "      <td>0.5</td>\n",
       "      <td>0.2</td>\n",
       "      <td>0</td>\n",
       "      <td>0</td>\n",
       "      <td>0</td>\n",
       "      <td>1</td>\n",
       "      <td>0</td>\n",
       "    </tr>\n",
       "    <tr>\n",
       "      <th>4998</th>\n",
       "      <td>0.6</td>\n",
       "      <td>1.0</td>\n",
       "      <td>0.7</td>\n",
       "      <td>0</td>\n",
       "      <td>1</td>\n",
       "      <td>0</td>\n",
       "      <td>0</td>\n",
       "      <td>0</td>\n",
       "    </tr>\n",
       "    <tr>\n",
       "      <th>32135</th>\n",
       "      <td>-1.1</td>\n",
       "      <td>-0.6</td>\n",
       "      <td>-0.2</td>\n",
       "      <td>0</td>\n",
       "      <td>0</td>\n",
       "      <td>1</td>\n",
       "      <td>0</td>\n",
       "      <td>0</td>\n",
       "    </tr>\n",
       "  </tbody>\n",
       "</table>\n",
       "<p>10789 rows × 8 columns</p>\n",
       "</div>"
      ],
      "text/plain": [
       "       carat  depth  table  cut_Fair  cut_Good  cut_Ideal  cut_Premium  \\\n",
       "1388    -1.2    0.2   -0.7         0         0          1            0   \n",
       "19841    0.9    0.8   -1.5         0         0          0            0   \n",
       "41647   -0.6   -0.0    4.7         1         0          0            0   \n",
       "41741   -0.6    0.7   -0.7         0         0          1            0   \n",
       "17244    1.6    0.4   -1.1         0         0          1            0   \n",
       "...      ...    ...    ...       ...       ...        ...          ...   \n",
       "45518   -0.6    0.4   -1.1         0         0          1            0   \n",
       "30056   -0.8   -0.3    1.1         0         0          0            1   \n",
       "43748   -0.6    0.5    0.2         0         0          0            1   \n",
       "4998     0.6    1.0    0.7         0         1          0            0   \n",
       "32135   -1.1   -0.6   -0.2         0         0          1            0   \n",
       "\n",
       "       cut_Very Good  \n",
       "1388               0  \n",
       "19841              1  \n",
       "41647              0  \n",
       "41741              0  \n",
       "17244              0  \n",
       "...              ...  \n",
       "45518              0  \n",
       "30056              0  \n",
       "43748              0  \n",
       "4998               0  \n",
       "32135              0  \n",
       "\n",
       "[10789 rows x 8 columns]"
      ]
     },
     "execution_count": 60,
     "metadata": {},
     "output_type": "execute_result"
    }
   ],
   "source": [
    "X_test3"
   ]
  },
  {
   "cell_type": "markdown",
   "metadata": {},
   "source": [
    "### Por temas de facilidad, solo usaremos el modelo de Regresión Logística para realizar el deployment de la APP"
   ]
  },
  {
   "cell_type": "code",
   "execution_count": 64,
   "metadata": {},
   "outputs": [],
   "source": [
    "#Importar el modelo a PCIKLE\n",
    "\n",
    "import pickle\n",
    "with open('diamond_prediction.pickle','wb') as f:\n",
    "    pickle.dump(lr_clf,f)"
   ]
  },
  {
   "cell_type": "code",
   "execution_count": 66,
   "metadata": {},
   "outputs": [],
   "source": [
    "import json\n",
    "columns = {\n",
    "    'data_columns' : [col.lower() for col in N_X.columns]\n",
    "}\n",
    "with open(\"columns.json\",\"w\") as f:\n",
    "    f.write(json.dumps(columns))"
   ]
  },
  {
   "cell_type": "code",
   "execution_count": null,
   "metadata": {},
   "outputs": [],
   "source": []
  },
  {
   "cell_type": "code",
   "execution_count": null,
   "metadata": {},
   "outputs": [],
   "source": []
  }
 ],
 "metadata": {
  "kernelspec": {
   "display_name": "Python 3",
   "language": "python",
   "name": "python3"
  },
  "language_info": {
   "codemirror_mode": {
    "name": "ipython",
    "version": 3
   },
   "file_extension": ".py",
   "mimetype": "text/x-python",
   "name": "python",
   "nbconvert_exporter": "python",
   "pygments_lexer": "ipython3",
   "version": "3.8.3"
  }
 },
 "nbformat": 4,
 "nbformat_minor": 4
}
